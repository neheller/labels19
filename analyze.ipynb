{
 "cells": [
  {
   "cell_type": "code",
   "execution_count": 1,
   "metadata": {},
   "outputs": [],
   "source": [
    "import json\n",
    "\n",
    "import matplotlib.pyplot as plt\n",
    "import numpy as np"
   ]
  },
  {
   "cell_type": "code",
   "execution_count": 2,
   "metadata": {},
   "outputs": [],
   "source": [
    "with open(\"aggregated.json\") as f:\n",
    "    data = json.loads(f.read())"
   ]
  },
  {
   "cell_type": "markdown",
   "metadata": {},
   "source": [
    "## How often are benchmarks not cited?"
   ]
  },
  {
   "cell_type": "code",
   "execution_count": 3,
   "metadata": {},
   "outputs": [
    {
     "name": "stdout",
     "output_type": "stream",
     "text": [
      "108 needs filling\n",
      "459 needs filling\n",
      "185 papers found that used a benchmark\n",
      "52 of those missed or improperly cited at least one of those benchmarks\n",
      "That's 28.1 per cent!\n"
     ]
    }
   ],
   "source": [
    "def used_any_benchmark(d):\n",
    "    not_custom = [s for s in d[\"whichdata\"] if s != \"custom\" and s != \"custom simulated\"]\n",
    "    return len(not_custom) > 0\n",
    "\n",
    "ub = 0\n",
    "ubnc = 0\n",
    "for d in data:\n",
    "    if used_any_benchmark(d):\n",
    "        ub = ub + 1\n",
    "        if d[\"didcite\"] != \"all\" and d[\"didcite\"] != \"\":\n",
    "            ubnc = ubnc + 1\n",
    "        if d[\"didcite\"] == \"\":\n",
    "            print(d[\"ind\"], \"needs filling\")\n",
    "            \n",
    "print(ub, \"papers found that used a benchmark\")\n",
    "print(ubnc, \"of those missed or improperly cited at least one of those benchmarks\")\n",
    "print(\"That's {:0.1f} per cent!\".format(100*ubnc/ub))"
   ]
  },
  {
   "cell_type": "markdown",
   "metadata": {},
   "source": [
    "## How often is custom data used?"
   ]
  },
  {
   "cell_type": "code",
   "execution_count": 4,
   "metadata": {},
   "outputs": [
    {
     "name": "stdout",
     "output_type": "stream",
     "text": [
      "2 needs filling\n",
      "73 needs filling\n",
      "102 needs filling\n",
      "167 needs filling\n",
      "321 needs filling\n",
      "362 needs filling\n",
      "418 needs filling\n",
      "437 needs filling\n",
      "264 papers found that used custom data\n",
      "13 of those released or promised to release their data\n",
      "That's 4.9 per cent!\n"
     ]
    }
   ],
   "source": [
    "def used_custom_data(d):\n",
    "    not_custom = [s for s in d[\"whichdata\"] if s == \"custom\" or s == \"custom simulated\"]\n",
    "    return len(not_custom) > 0\n",
    "\n",
    "du = 0\n",
    "dure = 0\n",
    "for d in data:\n",
    "    if used_custom_data(d):\n",
    "        du = du + 1\n",
    "        if d[\"didpublish\"] != \"no\" and d[\"didpublish\"] != \"\":\n",
    "            dure = dure + 1\n",
    "        if d[\"didpublish\"] == \"\":\n",
    "            print(d[\"ind\"], \"needs filling\")\n",
    "            \n",
    "print(du, \"papers found that used custom data\")\n",
    "print(dure, \"of those released or promised to release their data\")\n",
    "print(\"That's {:0.1f} per cent!\".format(100*dure/du))"
   ]
  },
  {
   "cell_type": "markdown",
   "metadata": {},
   "source": [
    "## How often are MICCAI papers cited?"
   ]
  },
  {
   "cell_type": "code",
   "execution_count": 5,
   "metadata": {},
   "outputs": [
    {
     "name": "stdout",
     "output_type": "stream",
     "text": [
      "65 needs reviewing\n",
      "87 needs reviewing\n",
      "166 needs reviewing\n",
      "[243.66666667]\n"
     ]
    },
    {
     "data": {
      "image/png": "[encoded data removed]",
      "text/plain": [
       "<Figure size 432x288 with 1 Axes>"
      ]
     },
     "metadata": {},
     "output_type": "display_data"
    },
    {
     "name": "stdout",
     "output_type": "stream",
     "text": [
      "4.753238546603476\n"
     ]
    }
   ],
   "source": [
    "citations = []\n",
    "for d in data:\n",
    "    if used_custom_data(d) or used_any_benchmark(d):\n",
    "        try:\n",
    "            citations = citations + [int(d[\"citations\"])/(2019 - int(d[\"year\"]))]\n",
    "        except ValueError:\n",
    "            print(d[\"ind\"], \"needs reviewing\")\n",
    "            \n",
    "cits = np.sort(np.array(citations))\n",
    "print(cits[cits > 100])\n",
    "plt.hist(cits[cits <= 100], bins=40)\n",
    "plt.show()\n",
    "print(np.mean(cits))"
   ]
  },
  {
   "cell_type": "markdown",
   "metadata": {},
   "source": [
    "## What if we partition by benchmark vs custom?"
   ]
  },
  {
   "cell_type": "code",
   "execution_count": 6,
   "metadata": {},
   "outputs": [
    {
     "name": "stdout",
     "output_type": "stream",
     "text": [
      "65 needs reviewing\n",
      "87 needs reviewing\n",
      "166 needs reviewing\n",
      "Excluding... []\n",
      "Total: 195\n",
      "5.695897435897436\n"
     ]
    },
    {
     "data": {
      "image/png": "[encoded data removed]",
      "text/plain": [
       "<Figure size 432x288 with 1 Axes>"
      ]
     },
     "metadata": {},
     "output_type": "display_data"
    },
    {
     "name": "stdout",
     "output_type": "stream",
     "text": [
      "\n",
      "\n",
      "Excluding... [243.66666667]\n",
      "Total: 227\n",
      "2.8867841409691626\n"
     ]
    },
    {
     "data": {
      "image/png": "[encoded data removed]",
      "text/plain": [
       "<Figure size 432x288 with 1 Axes>"
      ]
     },
     "metadata": {},
     "output_type": "display_data"
    },
    {
     "name": "stdout",
     "output_type": "stream",
     "text": [
      "\n",
      "\n",
      "Excluding... []\n",
      "Total: 11\n",
      "9.5\n"
     ]
    },
    {
     "data": {
      "image/png": "[encoded data removed]",
      "text/plain": [
       "<Figure size 432x288 with 1 Axes>"
      ]
     },
     "metadata": {},
     "output_type": "display_data"
    }
   ],
   "source": [
    "def used_custom_nore(d):\n",
    "    custom = [s for s in d[\"whichdata\"] if s == \"custom\" or s == \"custom simulated\"]\n",
    "    return len(custom) == len(d[\"whichdata\"]) and d[\"didpublish\"] == \"no\" \n",
    "\n",
    "def used_custom_re(d):\n",
    "    custom = [s for s in d[\"whichdata\"] if s == \"custom\" or s == \"custom simulated\"]\n",
    "    return len(custom) == len(d[\"whichdata\"]) and d[\"didpublish\"] != \"no\" and d[\"didpublish\"] != \"\"\n",
    "\n",
    "bnch_citations = []\n",
    "cstm_citations = []\n",
    "csre_citations = []\n",
    "for d in data:\n",
    "    if used_any_benchmark(d) or used_custom_re(d):\n",
    "        try:\n",
    "            bnch_citations = bnch_citations + [int(d[\"citations\"])/(2019 - int(d[\"year\"]))]\n",
    "        except ValueError:\n",
    "            print(d[\"ind\"], \"needs reviewing\")\n",
    "    elif used_custom_nore(d):\n",
    "        try:\n",
    "            cstm_citations = cstm_citations + [int(d[\"citations\"])/(2019 - int(d[\"year\"]))]\n",
    "        except ValueError:\n",
    "            print(d[\"ind\"], \"needs reviewing\")\n",
    "    if used_custom_re(d):\n",
    "        try:\n",
    "            csre_citations = csre_citations + [int(d[\"citations\"])/(2019 - int(d[\"year\"]))]\n",
    "        except ValueError:\n",
    "            print(d[\"ind\"], \"needs reviewing\")\n",
    "\n",
    "            \n",
    "# First benchmark\n",
    "bnch_cits = np.sort(np.array(bnch_citations))\n",
    "print(\"Excluding...\", bnch_cits[bnch_cits > 100])\n",
    "print(\"Total:\", bnch_cits[bnch_cits <= 100].shape[0])\n",
    "print(np.mean(bnch_cits[bnch_cits <= 100]))\n",
    "plt.hist(bnch_cits[bnch_cits <= 100], bins=40)\n",
    "plt.show()\n",
    "\n",
    "print(\"\\n\")\n",
    "# Then custom no release\n",
    "cstm_cits = np.sort(np.array(cstm_citations))\n",
    "print(\"Excluding...\", cstm_cits[cstm_cits > 100])\n",
    "print(\"Total:\", cstm_cits[cstm_cits <= 100].shape[0])\n",
    "print(np.mean(cstm_cits[cstm_cits <= 100]))\n",
    "plt.hist(cstm_cits[cstm_cits <= 100], bins=40)\n",
    "plt.show()\n",
    "\n",
    "print(\"\\n\")\n",
    "# Then custom and release\n",
    "csre_cits = np.sort(np.array(csre_citations))\n",
    "print(\"Excluding...\", csre_cits[csre_cits > 100])\n",
    "print(\"Total:\", csre_cits[csre_cits <= 100].shape[0])\n",
    "print(np.mean(csre_cits[csre_cits <= 100]))\n",
    "plt.hist(csre_cits[csre_cits <= 100], bins=40)\n",
    "plt.show()\n"
   ]
  },
  {
   "cell_type": "markdown",
   "metadata": {},
   "source": [
    "## What if we partition by releasing code or no?"
   ]
  },
  {
   "cell_type": "code",
   "execution_count": 7,
   "metadata": {},
   "outputs": [
    {
     "name": "stdout",
     "output_type": "stream",
     "text": [
      "65 needs reviewing\n",
      "87 needs reviewing\n",
      "166 needs reviewing\n",
      "Excluding... [243.66666667]\n",
      "Total: 32\n",
      "8.153125\n"
     ]
    },
    {
     "data": {
      "image/png": "[encoded data removed]",
      "text/plain": [
       "<Figure size 432x288 with 1 Axes>"
      ]
     },
     "metadata": {},
     "output_type": "display_data"
    },
    {
     "name": "stdout",
     "output_type": "stream",
     "text": [
      "\n",
      "\n",
      "Excluding... []\n",
      "Total: 389\n",
      "3.859383033419024\n"
     ]
    },
    {
     "data": {
      "image/png": "[encoded data removed]",
      "text/plain": [
       "<Figure size 432x288 with 1 Axes>"
      ]
     },
     "metadata": {},
     "output_type": "display_data"
    }
   ],
   "source": [
    "def released_code(d):\n",
    "    return d[\"code\"] == \"on\"\n",
    "\n",
    "bnch_citations = []\n",
    "cstm_citations = []\n",
    "for d in data:\n",
    "    if not used_custom_data(d) and not used_any_benchmark(d):\n",
    "        continue\n",
    "    if released_code(d):\n",
    "        try:\n",
    "            bnch_citations = bnch_citations + [int(d[\"citations\"])/(2019 - int(d[\"year\"]))]\n",
    "        except ValueError:\n",
    "            print(d[\"ind\"], \"needs reviewing\")\n",
    "    else:\n",
    "        try:\n",
    "            cstm_citations = cstm_citations + [int(d[\"citations\"])/(2019 - int(d[\"year\"]))]\n",
    "        except ValueError:\n",
    "            print(d[\"ind\"], \"needs reviewing\")\n",
    "\n",
    "            \n",
    "# First benchmark\n",
    "bnch_cits = np.sort(np.array(bnch_citations))\n",
    "print(\"Excluding...\", bnch_cits[bnch_cits > 100])\n",
    "print(\"Total:\", bnch_cits[bnch_cits <= 100].shape[0])\n",
    "print(np.mean(bnch_cits[bnch_cits <= 100]))\n",
    "plt.hist(bnch_cits[bnch_cits <= 100], bins=40)\n",
    "plt.show()\n",
    "\n",
    "print(\"\\n\")\n",
    "# Then custom no release\n",
    "cstm_cits = np.sort(np.array(cstm_citations))\n",
    "print(\"Excluding...\", cstm_cits[cstm_cits > 100])\n",
    "print(\"Total:\", cstm_cits[cstm_cits <= 100].shape[0])\n",
    "print(np.mean(cstm_cits[cstm_cits <= 100]))\n",
    "plt.hist(cstm_cits[cstm_cits <= 100], bins=40)\n",
    "plt.show()\n"
   ]
  },
  {
   "cell_type": "markdown",
   "metadata": {},
   "source": [
    "## What if we partition by open access vs no?"
   ]
  },
  {
   "cell_type": "code",
   "execution_count": 8,
   "metadata": {},
   "outputs": [
    {
     "name": "stdout",
     "output_type": "stream",
     "text": [
      "65 needs reviewing\n",
      "87 needs reviewing\n",
      "166 needs reviewing\n",
      "Excluding... [243.66666667]\n",
      "Total: 372\n",
      "4.392921146953404\n"
     ]
    },
    {
     "data": {
      "image/png": "[encoded data removed]",
      "text/plain": [
       "<Figure size 432x288 with 1 Axes>"
      ]
     },
     "metadata": {},
     "output_type": "display_data"
    },
    {
     "name": "stdout",
     "output_type": "stream",
     "text": [
      "\n",
      "\n",
      "Excluding... []\n",
      "Total: 49\n",
      "2.6129251700680274\n"
     ]
    },
    {
     "data": {
      "image/png": "[encoded data removed]",
      "text/plain": [
       "<Figure size 432x288 with 1 Axes>"
      ]
     },
     "metadata": {},
     "output_type": "display_data"
    }
   ],
   "source": [
    "def open_access(d):\n",
    "    return \"on\" in d[\"preprint\"] + d[\"personal\"]\n",
    "\n",
    "bnch_citations = []\n",
    "cstm_citations = []\n",
    "for d in data:\n",
    "    if not used_custom_data(d) and not used_any_benchmark(d):\n",
    "        continue\n",
    "    if open_access(d):\n",
    "        try:\n",
    "            bnch_citations = bnch_citations + [int(d[\"citations\"])/(2019 - int(d[\"year\"]))]\n",
    "        except ValueError:\n",
    "            print(d[\"ind\"], \"needs reviewing\")\n",
    "    else:\n",
    "        try:\n",
    "            cstm_citations = cstm_citations + [int(d[\"citations\"])/(2019 - int(d[\"year\"]))]\n",
    "        except ValueError:\n",
    "            print(d[\"ind\"], \"needs reviewing\")\n",
    "\n",
    "            \n",
    "# First benchmark\n",
    "bnch_cits = np.sort(np.array(bnch_citations))\n",
    "print(\"Excluding...\", bnch_cits[bnch_cits > 100])\n",
    "print(\"Total:\", bnch_cits[bnch_cits <= 100].shape[0])\n",
    "print(np.mean(bnch_cits[bnch_cits <= 100]))\n",
    "plt.hist(bnch_cits[bnch_cits <= 100], bins=40)\n",
    "plt.show()\n",
    "\n",
    "print(\"\\n\")\n",
    "# Then custom no release\n",
    "cstm_cits = np.sort(np.array(cstm_citations))\n",
    "print(\"Excluding...\", cstm_cits[cstm_cits > 100])\n",
    "print(\"Total:\", cstm_cits[cstm_cits <= 100].shape[0])\n",
    "print(np.mean(cstm_cits[cstm_cits <= 100]))\n",
    "plt.hist(cstm_cits[cstm_cits <= 100], bins=40)\n",
    "plt.show()\n"
   ]
  },
  {
   "cell_type": "markdown",
   "metadata": {},
   "source": [
    "## How's public benchmark use over time?"
   ]
  },
  {
   "cell_type": "code",
   "execution_count": 9,
   "metadata": {},
   "outputs": [
    {
     "data": {
      "image/png": "[encoded data removed]",
      "text/plain": [
       "<Figure size 432x288 with 1 Axes>"
      ]
     },
     "metadata": {},
     "output_type": "display_data"
    }
   ],
   "source": [
    "bnch_counts = [0 for _ in range(5)]\n",
    "cstm_counts = [0 for _ in range(5)]\n",
    "csre_counts = [0 for _ in range(5)]\n",
    "\n",
    "for d in data:\n",
    "    year = 4 - 2018 + int(d[\"year\"])\n",
    "    if used_any_benchmark(d):\n",
    "        try:\n",
    "            bnch_counts[year] = bnch_counts[year] + 1\n",
    "        except ValueError:\n",
    "            print(d[\"ind\"], \"needs reviewing\")\n",
    "    elif used_custom_nore(d):\n",
    "        try:\n",
    "            cstm_counts[year] = cstm_counts[year] + 1\n",
    "        except ValueError:\n",
    "            print(d[\"ind\"], \"needs reviewing\")\n",
    "    elif used_custom_re(d):\n",
    "        try:\n",
    "            csre_counts[year] = csre_counts[year] + 1\n",
    "        except ValueError:\n",
    "            print(d[\"ind\"], \"needs reviewing\")\n",
    "\n",
    "years = range(2014, 2019)\n",
    "plt.bar(years, cstm_counts, 0.9, color=(0.2, 0.4, 0.6, 1.0))\n",
    "plt.bar(years, csre_counts, 0.9, bottom=cstm_counts, color=(0.2, 0.4, 0.6, 0.8))\n",
    "plt.bar(years, bnch_counts, 0.9, bottom=np.array(cstm_counts) + np.array(csre_counts), color=(0.2, 0.4, 0.6, 0.6))\n",
    "plt.legend([\"Private\", \"Release\", \"Benchmark\"], loc=\"lower left\")\n",
    "plt.show()\n"
   ]
  },
  {
   "cell_type": "markdown",
   "metadata": {},
   "source": [
    "## How's code release over time?"
   ]
  },
  {
   "cell_type": "code",
   "execution_count": 10,
   "metadata": {},
   "outputs": [
    {
     "data": {
      "image/png": "[encoded data removed]",
      "text/plain": [
       "<Figure size 432x288 with 1 Axes>"
      ]
     },
     "metadata": {},
     "output_type": "display_data"
    },
    {
     "name": "stdout",
     "output_type": "stream",
     "text": [
      "2014 0.05952380952380952\n",
      "2015 0.07317073170731707\n",
      "2016 0.09195402298850575\n",
      "2017 0.058823529411764705\n",
      "2018 0.10344827586206896\n"
     ]
    }
   ],
   "source": [
    "bnch_counts = [0 for _ in range(5)]\n",
    "cstm_counts = [0 for _ in range(5)]\n",
    "\n",
    "for d in data:\n",
    "    year = 4 - 2018 + int(d[\"year\"])\n",
    "    if not used_custom_data(d) and not used_any_benchmark(d):\n",
    "        continue\n",
    "    if released_code(d):\n",
    "        try:\n",
    "            bnch_counts[year] = bnch_counts[year] + 1\n",
    "        except ValueError:\n",
    "            print(d[\"ind\"], \"needs reviewing\")\n",
    "    else:\n",
    "        try:\n",
    "            cstm_counts[year] = cstm_counts[year] + 1\n",
    "        except ValueError:\n",
    "            print(d[\"ind\"], \"needs reviewing\")\n",
    "\n",
    "years = range(2014, 2019)\n",
    "plt.bar(years, cstm_counts, 0.9, color=(0.2, 0.4, 0.6, 1.0))\n",
    "plt.bar(years, bnch_counts, 0.9, bottom=cstm_counts, color=(0.2, 0.4, 0.6, 0.6))\n",
    "plt.legend([\"Code Not Available\", \"Code Available\", \"Benchmark\"], loc=\"lower left\")\n",
    "plt.show()\n",
    "\n",
    "for i in range(5):\n",
    "    print(years[i], bnch_counts[i]/(bnch_counts[i]+cstm_counts[i]))"
   ]
  },
  {
   "cell_type": "markdown",
   "metadata": {},
   "source": [
    "## Log Transformed OLS Prediction of Citations"
   ]
  },
  {
   "cell_type": "code",
   "execution_count": 11,
   "metadata": {},
   "outputs": [],
   "source": [
    "# Import necessary packages\n",
    "import numpy as np\n",
    "import pandas as pd\n",
    "import statsmodels.api as sm"
   ]
  },
  {
   "cell_type": "code",
   "execution_count": 12,
   "metadata": {},
   "outputs": [
    {
     "name": "stdout",
     "output_type": "stream",
     "text": [
      "Review 37\n",
      "Review 65\n",
      "Review 87\n",
      "Review 166\n"
     ]
    }
   ],
   "source": [
    "# Load data into a Pandas DataFrame\n",
    "data_mat = []\n",
    "target_mat = []\n",
    "column_names = [\"ind\", \"is_open_access\", \"did_release_code\", \"public_data\"]\n",
    "target_name = [\"log_citations\"]\n",
    "for d in data:\n",
    "    if not used_custom_data(d) and not used_any_benchmark(d):\n",
    "        continue\n",
    "    try:\n",
    "        ind = int(d[\"ind\"])\n",
    "        years_elapsed = 2019 - int(d[\"year\"])\n",
    "        if int(d[\"citations\"])/years_elapsed > 100:\n",
    "            raise ValueError\n",
    "        is_open_access = int(open_access(d))\n",
    "        did_release_code = int(released_code(d))\n",
    "        public_data = int(used_any_benchmark(d))\n",
    "        targ_val = np.log(int(d[\"citations\"])/years_elapsed+1)\n",
    "        data_mat = data_mat + [[ind, is_open_access, did_release_code, public_data]]\n",
    "        target_mat = target_mat + [targ_val]\n",
    "    except ValueError:\n",
    "        print(\"Review\", d[\"ind\"])\n",
    "        \n",
    "        "
   ]
  },
  {
   "cell_type": "code",
   "execution_count": 13,
   "metadata": {},
   "outputs": [
    {
     "data": {
      "text/html": [
       "<div>\n",
       "<style scoped>\n",
       "    .dataframe tbody tr th:only-of-type {\n",
       "        vertical-align: middle;\n",
       "    }\n",
       "\n",
       "    .dataframe tbody tr th {\n",
       "        vertical-align: top;\n",
       "    }\n",
       "\n",
       "    .dataframe thead th {\n",
       "        text-align: right;\n",
       "    }\n",
       "</style>\n",
       "<table border=\"1\" class=\"dataframe\">\n",
       "  <thead>\n",
       "    <tr style=\"text-align: right;\">\n",
       "      <th></th>\n",
       "      <th>ind</th>\n",
       "      <th>is_open_access</th>\n",
       "      <th>did_release_code</th>\n",
       "      <th>public_data</th>\n",
       "    </tr>\n",
       "  </thead>\n",
       "  <tbody>\n",
       "    <tr>\n",
       "      <th>count</th>\n",
       "      <td>421.000000</td>\n",
       "      <td>421.000000</td>\n",
       "      <td>421.000000</td>\n",
       "      <td>421.000000</td>\n",
       "    </tr>\n",
       "    <tr>\n",
       "      <th>mean</th>\n",
       "      <td>250.448931</td>\n",
       "      <td>0.883610</td>\n",
       "      <td>0.076010</td>\n",
       "      <td>0.437055</td>\n",
       "    </tr>\n",
       "    <tr>\n",
       "      <th>std</th>\n",
       "      <td>144.008913</td>\n",
       "      <td>0.321073</td>\n",
       "      <td>0.265329</td>\n",
       "      <td>0.496612</td>\n",
       "    </tr>\n",
       "    <tr>\n",
       "      <th>min</th>\n",
       "      <td>2.000000</td>\n",
       "      <td>0.000000</td>\n",
       "      <td>0.000000</td>\n",
       "      <td>0.000000</td>\n",
       "    </tr>\n",
       "    <tr>\n",
       "      <th>25%</th>\n",
       "      <td>132.000000</td>\n",
       "      <td>1.000000</td>\n",
       "      <td>0.000000</td>\n",
       "      <td>0.000000</td>\n",
       "    </tr>\n",
       "    <tr>\n",
       "      <th>50%</th>\n",
       "      <td>244.000000</td>\n",
       "      <td>1.000000</td>\n",
       "      <td>0.000000</td>\n",
       "      <td>0.000000</td>\n",
       "    </tr>\n",
       "    <tr>\n",
       "      <th>75%</th>\n",
       "      <td>377.000000</td>\n",
       "      <td>1.000000</td>\n",
       "      <td>0.000000</td>\n",
       "      <td>1.000000</td>\n",
       "    </tr>\n",
       "    <tr>\n",
       "      <th>max</th>\n",
       "      <td>499.000000</td>\n",
       "      <td>1.000000</td>\n",
       "      <td>1.000000</td>\n",
       "      <td>1.000000</td>\n",
       "    </tr>\n",
       "  </tbody>\n",
       "</table>\n",
       "</div>"
      ],
      "text/plain": [
       "              ind  is_open_access  did_release_code  public_data\n",
       "count  421.000000      421.000000        421.000000   421.000000\n",
       "mean   250.448931        0.883610          0.076010     0.437055\n",
       "std    144.008913        0.321073          0.265329     0.496612\n",
       "min      2.000000        0.000000          0.000000     0.000000\n",
       "25%    132.000000        1.000000          0.000000     0.000000\n",
       "50%    244.000000        1.000000          0.000000     0.000000\n",
       "75%    377.000000        1.000000          0.000000     1.000000\n",
       "max    499.000000        1.000000          1.000000     1.000000"
      ]
     },
     "execution_count": 13,
     "metadata": {},
     "output_type": "execute_result"
    }
   ],
   "source": [
    "df_pred = pd.DataFrame(np.array(data_mat), columns=column_names)\n",
    "df_resp = pd.DataFrame(np.array(target_mat), columns=target_name)\n",
    "df_pred.describe()"
   ]
  },
  {
   "cell_type": "code",
   "execution_count": 14,
   "metadata": {},
   "outputs": [
    {
     "data": {
      "text/html": [
       "<div>\n",
       "<style scoped>\n",
       "    .dataframe tbody tr th:only-of-type {\n",
       "        vertical-align: middle;\n",
       "    }\n",
       "\n",
       "    .dataframe tbody tr th {\n",
       "        vertical-align: top;\n",
       "    }\n",
       "\n",
       "    .dataframe thead th {\n",
       "        text-align: right;\n",
       "    }\n",
       "</style>\n",
       "<table border=\"1\" class=\"dataframe\">\n",
       "  <thead>\n",
       "    <tr style=\"text-align: right;\">\n",
       "      <th></th>\n",
       "      <th>log_citations</th>\n",
       "    </tr>\n",
       "  </thead>\n",
       "  <tbody>\n",
       "    <tr>\n",
       "      <th>count</th>\n",
       "      <td>421.000000</td>\n",
       "    </tr>\n",
       "    <tr>\n",
       "      <th>mean</th>\n",
       "      <td>1.207123</td>\n",
       "    </tr>\n",
       "    <tr>\n",
       "      <th>std</th>\n",
       "      <td>0.856284</td>\n",
       "    </tr>\n",
       "    <tr>\n",
       "      <th>min</th>\n",
       "      <td>0.000000</td>\n",
       "    </tr>\n",
       "    <tr>\n",
       "      <th>25%</th>\n",
       "      <td>0.559616</td>\n",
       "    </tr>\n",
       "    <tr>\n",
       "      <th>50%</th>\n",
       "      <td>1.098612</td>\n",
       "    </tr>\n",
       "    <tr>\n",
       "      <th>75%</th>\n",
       "      <td>1.686399</td>\n",
       "    </tr>\n",
       "    <tr>\n",
       "      <th>max</th>\n",
       "      <td>4.094345</td>\n",
       "    </tr>\n",
       "  </tbody>\n",
       "</table>\n",
       "</div>"
      ],
      "text/plain": [
       "       log_citations\n",
       "count     421.000000\n",
       "mean        1.207123\n",
       "std         0.856284\n",
       "min         0.000000\n",
       "25%         0.559616\n",
       "50%         1.098612\n",
       "75%         1.686399\n",
       "max         4.094345"
      ]
     },
     "execution_count": 14,
     "metadata": {},
     "output_type": "execute_result"
    }
   ],
   "source": [
    "df_resp.describe()"
   ]
  },
  {
   "cell_type": "code",
   "execution_count": 15,
   "metadata": {},
   "outputs": [
    {
     "name": "stderr",
     "output_type": "stream",
     "text": [
      "/home/helle246/.local/lib/python3.6/site-packages/numpy/core/fromnumeric.py:52: FutureWarning: Method .ptp is deprecated and will be removed in a future version. Use numpy.ptp instead.\n",
      "  return getattr(obj, method)(*args, **kwds)\n"
     ]
    },
    {
     "data": {
      "text/html": [
       "<table class=\"simpletable\">\n",
       "<caption>OLS Regression Results</caption>\n",
       "<tr>\n",
       "  <th>Dep. Variable:</th>      <td>log_citations</td>  <th>  R-squared:         </th> <td>   0.073</td>\n",
       "</tr>\n",
       "<tr>\n",
       "  <th>Model:</th>                   <td>OLS</td>       <th>  Adj. R-squared:    </th> <td>   0.066</td>\n",
       "</tr>\n",
       "<tr>\n",
       "  <th>Method:</th>             <td>Least Squares</td>  <th>  F-statistic:       </th> <td>   10.87</td>\n",
       "</tr>\n",
       "<tr>\n",
       "  <th>Date:</th>             <td>Sun, 14 Jul 2019</td> <th>  Prob (F-statistic):</th> <td>6.87e-07</td>\n",
       "</tr>\n",
       "<tr>\n",
       "  <th>Time:</th>                 <td>18:28:07</td>     <th>  Log-Likelihood:    </th> <td> -515.70</td>\n",
       "</tr>\n",
       "<tr>\n",
       "  <th>No. Observations:</th>      <td>   421</td>      <th>  AIC:               </th> <td>   1039.</td>\n",
       "</tr>\n",
       "<tr>\n",
       "  <th>Df Residuals:</th>          <td>   417</td>      <th>  BIC:               </th> <td>   1056.</td>\n",
       "</tr>\n",
       "<tr>\n",
       "  <th>Df Model:</th>              <td>     3</td>      <th>                     </th>     <td> </td>   \n",
       "</tr>\n",
       "<tr>\n",
       "  <th>Covariance Type:</th>      <td>nonrobust</td>    <th>                     </th>     <td> </td>   \n",
       "</tr>\n",
       "</table>\n",
       "<table class=\"simpletable\">\n",
       "<tr>\n",
       "          <td></td>            <th>coef</th>     <th>std err</th>      <th>t</th>      <th>P>|t|</th>  <th>[0.025</th>    <th>0.975]</th>  \n",
       "</tr>\n",
       "<tr>\n",
       "  <th>const</th>            <td>    0.7567</td> <td>    0.126</td> <td>    6.006</td> <td> 0.000</td> <td>    0.509</td> <td>    1.004</td>\n",
       "</tr>\n",
       "<tr>\n",
       "  <th>is_open_access</th>   <td>    0.3213</td> <td>    0.126</td> <td>    2.548</td> <td> 0.011</td> <td>    0.073</td> <td>    0.569</td>\n",
       "</tr>\n",
       "<tr>\n",
       "  <th>did_release_code</th> <td>    0.5300</td> <td>    0.153</td> <td>    3.467</td> <td> 0.001</td> <td>    0.229</td> <td>    0.830</td>\n",
       "</tr>\n",
       "<tr>\n",
       "  <th>public_data</th>      <td>    0.2887</td> <td>    0.082</td> <td>    3.527</td> <td> 0.000</td> <td>    0.128</td> <td>    0.450</td>\n",
       "</tr>\n",
       "</table>\n",
       "<table class=\"simpletable\">\n",
       "<tr>\n",
       "  <th>Omnibus:</th>       <td>25.411</td> <th>  Durbin-Watson:     </th> <td>   1.872</td>\n",
       "</tr>\n",
       "<tr>\n",
       "  <th>Prob(Omnibus):</th> <td> 0.000</td> <th>  Jarque-Bera (JB):  </th> <td>  28.448</td>\n",
       "</tr>\n",
       "<tr>\n",
       "  <th>Skew:</th>          <td> 0.630</td> <th>  Prob(JB):          </th> <td>6.65e-07</td>\n",
       "</tr>\n",
       "<tr>\n",
       "  <th>Kurtosis:</th>      <td> 3.189</td> <th>  Cond. No.          </th> <td>    6.20</td>\n",
       "</tr>\n",
       "</table><br/><br/>Warnings:<br/>[1] Standard Errors assume that the covariance matrix of the errors is correctly specified."
      ],
      "text/plain": [
       "<class 'statsmodels.iolib.summary.Summary'>\n",
       "\"\"\"\n",
       "                            OLS Regression Results                            \n",
       "==============================================================================\n",
       "Dep. Variable:          log_citations   R-squared:                       0.073\n",
       "Model:                            OLS   Adj. R-squared:                  0.066\n",
       "Method:                 Least Squares   F-statistic:                     10.87\n",
       "Date:                Sun, 14 Jul 2019   Prob (F-statistic):           6.87e-07\n",
       "Time:                        18:28:07   Log-Likelihood:                -515.70\n",
       "No. Observations:                 421   AIC:                             1039.\n",
       "Df Residuals:                     417   BIC:                             1056.\n",
       "Df Model:                           3                                         \n",
       "Covariance Type:            nonrobust                                         \n",
       "====================================================================================\n",
       "                       coef    std err          t      P>|t|      [0.025      0.975]\n",
       "------------------------------------------------------------------------------------\n",
       "const                0.7567      0.126      6.006      0.000       0.509       1.004\n",
       "is_open_access       0.3213      0.126      2.548      0.011       0.073       0.569\n",
       "did_release_code     0.5300      0.153      3.467      0.001       0.229       0.830\n",
       "public_data          0.2887      0.082      3.527      0.000       0.128       0.450\n",
       "==============================================================================\n",
       "Omnibus:                       25.411   Durbin-Watson:                   1.872\n",
       "Prob(Omnibus):                  0.000   Jarque-Bera (JB):               28.448\n",
       "Skew:                           0.630   Prob(JB):                     6.65e-07\n",
       "Kurtosis:                       3.189   Cond. No.                         6.20\n",
       "==============================================================================\n",
       "\n",
       "Warnings:\n",
       "[1] Standard Errors assume that the covariance matrix of the errors is correctly specified.\n",
       "\"\"\""
      ]
     },
     "execution_count": 15,
     "metadata": {},
     "output_type": "execute_result"
    }
   ],
   "source": [
    "X = df_pred[[\"is_open_access\", \"did_release_code\", \"public_data\"]]\n",
    "Y = df_resp[\"log_citations\"]\n",
    "\n",
    "X = sm.add_constant(X)\n",
    "\n",
    "model = sm.OLS(Y, X).fit()\n",
    "predictions = model.predict(X)\n",
    "\n",
    "model.summary()"
   ]
  },
  {
   "cell_type": "code",
   "execution_count": 16,
   "metadata": {},
   "outputs": [
    {
     "name": "stdout",
     "output_type": "stream",
     "text": [
      "THIS UNDERESTIMATES THE RATIO DUE TO THE HIGH PREVALENCE OF LOW-CITATION PAPERS\n",
      "The log+1 has only a very small effect on most distributions, but a really large one on ours\n",
      "Public Data Citation increase: 33.5%.   95% CI: [10.1%, 88.5%]\n"
     ]
    }
   ],
   "source": [
    "print(\"THIS UNDERESTIMATES THE RATIO DUE TO THE HIGH PREVALENCE OF LOW-CITATION PAPERS\")\n",
    "print(\"The log+1 has only a very small effect on most distributions, but a really large one on ours\")\n",
    "print(\"Public Data Citation increase: {1:0.1f}%.   95% CI: [{0:0.1f}%, {2:0.1f}%]\".format(\n",
    "    100*(np.exp(0.096)-1), # change this to given value\n",
    "    100*(np.exp(model.params[\"public_data\"])-1), \n",
    "    100*(np.exp(0.634)-1) # Change this to given value\n",
    "))"
   ]
  },
  {
   "cell_type": "markdown",
   "metadata": {},
   "source": [
    "## What if I try controlling by restriction plus weighted sum?"
   ]
  },
  {
   "cell_type": "code",
   "execution_count": 17,
   "metadata": {},
   "outputs": [
    {
     "name": "stdout",
     "output_type": "stream",
     "text": [
      "OPEN ACCESS AND CODE RELEASE\n",
      "Excluding... []\n",
      "Total: 22\n",
      "10.583333333333334\n"
     ]
    },
    {
     "data": {
      "image/png": "[encoded data removed]",
      "text/plain": [
       "<Figure size 432x288 with 1 Axes>"
      ]
     },
     "metadata": {},
     "output_type": "display_data"
    },
    {
     "name": "stdout",
     "output_type": "stream",
     "text": [
      "\n",
      "\n",
      "Excluding... [243.66666667]\n",
      "Total: 7\n",
      "3.6285714285714286\n"
     ]
    },
    {
     "data": {
      "image/png": "[encoded data removed]",
      "text/plain": [
       "<Figure size 432x288 with 1 Axes>"
      ]
     },
     "metadata": {},
     "output_type": "display_data"
    },
    {
     "name": "stdout",
     "output_type": "stream",
     "text": [
      "2.916666666666667\n",
      "OPEN ACCESS AND NO CODE RELEASE\n",
      "65 needs reviewing\n",
      "87 needs reviewing\n",
      "166 needs reviewing\n",
      "Excluding... []\n",
      "Total: 147\n",
      "5.31360544217687\n"
     ]
    },
    {
     "data": {
      "image/png": "[encoded data removed]",
      "text/plain": [
       "<Figure size 432x288 with 1 Axes>"
      ]
     },
     "metadata": {},
     "output_type": "display_data"
    },
    {
     "name": "stdout",
     "output_type": "stream",
     "text": [
      "\n",
      "\n",
      "Excluding... []\n",
      "Total: 197\n",
      "3.0387478849407783\n"
     ]
    },
    {
     "data": {
      "image/png": "[encoded data removed]",
      "text/plain": [
       "<Figure size 432x288 with 1 Axes>"
      ]
     },
     "metadata": {},
     "output_type": "display_data"
    },
    {
     "name": "stdout",
     "output_type": "stream",
     "text": [
      "1.7486167472167327\n",
      "NOT OPEN ACCESS AND CODE RELEASE\n",
      "Excluding... []\n",
      "Total: 2\n",
      "0.6666666666666666\n"
     ]
    },
    {
     "data": {
      "image/png": "[encoded data removed]",
      "text/plain": [
       "<Figure size 432x288 with 1 Axes>"
      ]
     },
     "metadata": {},
     "output_type": "display_data"
    },
    {
     "name": "stdout",
     "output_type": "stream",
     "text": [
      "\n",
      "\n",
      "Excluding... []\n",
      "Total: 1\n",
      "1.3333333333333333\n"
     ]
    },
    {
     "data": {
      "image/png": "[encoded data removed]",
      "text/plain": [
       "<Figure size 432x288 with 1 Axes>"
      ]
     },
     "metadata": {},
     "output_type": "display_data"
    },
    {
     "name": "stdout",
     "output_type": "stream",
     "text": [
      "0.5\n",
      "OPEN ACCESS AND NO CODE RELEASE\n",
      "Excluding... []\n",
      "Total: 24\n",
      "3.9763888888888883\n"
     ]
    },
    {
     "data": {
      "image/png": "[encoded data removed]",
      "text/plain": [
       "<Figure size 432x288 with 1 Axes>"
      ]
     },
     "metadata": {},
     "output_type": "display_data"
    },
    {
     "name": "stdout",
     "output_type": "stream",
     "text": [
      "\n",
      "\n",
      "Excluding... []\n",
      "Total: 22\n",
      "1.3606060606060606\n"
     ]
    },
    {
     "data": {
      "image/png": "[encoded data removed]",
      "text/plain": [
       "<Figure size 432x288 with 1 Axes>"
      ]
     },
     "metadata": {},
     "output_type": "display_data"
    },
    {
     "name": "stdout",
     "output_type": "stream",
     "text": [
      "2.9225129918337043\n",
      "RATIO AFTER CONTROLLING: 1.948839457531823\n"
     ]
    }
   ],
   "source": [
    "print(\"OPEN ACCESS AND CODE RELEASE\")\n",
    "\n",
    "agg_rat = 0\n",
    "N = 0\n",
    "\n",
    "bnch_citations = []\n",
    "cstm_citations = []\n",
    "n = 0\n",
    "for d in [d for d in data if open_access(d) and released_code(d)]:\n",
    "    if used_any_benchmark(d) or used_custom_re(d):\n",
    "        try:\n",
    "            bnch_citations = bnch_citations + [int(d[\"citations\"])/(2019 - int(d[\"year\"]))]\n",
    "        except ValueError:\n",
    "            print(d[\"ind\"], \"needs reviewing\")\n",
    "        n = n + 1\n",
    "    elif used_custom_nore(d):\n",
    "        try:\n",
    "            cstm_citations = cstm_citations + [int(d[\"citations\"])/(2019 - int(d[\"year\"]))]\n",
    "        except ValueError:\n",
    "            print(d[\"ind\"], \"needs reviewing\")\n",
    "        n = n + 1\n",
    "\n",
    "            \n",
    "# First benchmark\n",
    "bnch_cits = np.sort(np.array(bnch_citations))\n",
    "print(\"Excluding...\", bnch_cits[bnch_cits > 100])\n",
    "print(\"Total:\", bnch_cits[bnch_cits <= 100].shape[0])\n",
    "print(np.mean(bnch_cits[bnch_cits <= 100]))\n",
    "plt.hist(bnch_cits[bnch_cits <= 100], bins=40)\n",
    "plt.show()\n",
    "\n",
    "print(\"\\n\")\n",
    "# Then custom no release\n",
    "cstm_cits = np.sort(np.array(cstm_citations))\n",
    "print(\"Excluding...\", cstm_cits[cstm_cits > 100])\n",
    "print(\"Total:\", cstm_cits[cstm_cits <= 100].shape[0])\n",
    "print(np.mean(cstm_cits[cstm_cits <= 100]))\n",
    "plt.hist(cstm_cits[cstm_cits <= 100], bins=40)\n",
    "plt.show()\n",
    "\n",
    "rat = np.mean(bnch_cits[bnch_cits <= 100])/np.mean(cstm_cits[cstm_cits <= 100])\n",
    "agg_rat = agg_rat + n*rat\n",
    "N = N + n\n",
    "print(rat)\n",
    "\n",
    "print(\"OPEN ACCESS AND NO CODE RELEASE\")\n",
    "\n",
    "bnch_citations = []\n",
    "cstm_citations = []\n",
    "n = 0\n",
    "for d in [d for d in data if open_access(d) and not released_code(d)]:\n",
    "    if used_any_benchmark(d) or used_custom_re(d):\n",
    "        try:\n",
    "            bnch_citations = bnch_citations + [int(d[\"citations\"])/(2019 - int(d[\"year\"]))]\n",
    "        except ValueError:\n",
    "            print(d[\"ind\"], \"needs reviewing\")\n",
    "        n = n + 1\n",
    "    elif used_custom_nore(d):\n",
    "        try:\n",
    "            cstm_citations = cstm_citations + [int(d[\"citations\"])/(2019 - int(d[\"year\"]))]\n",
    "        except ValueError:\n",
    "            print(d[\"ind\"], \"needs reviewing\")\n",
    "        n = n + 1\n",
    "\n",
    "            \n",
    "# First benchmark\n",
    "bnch_cits = np.sort(np.array(bnch_citations))\n",
    "print(\"Excluding...\", bnch_cits[bnch_cits > 100])\n",
    "print(\"Total:\", bnch_cits[bnch_cits <= 100].shape[0])\n",
    "print(np.mean(bnch_cits[bnch_cits <= 100]))\n",
    "plt.hist(bnch_cits[bnch_cits <= 100], bins=40)\n",
    "plt.show()\n",
    "\n",
    "print(\"\\n\")\n",
    "# Then custom no release\n",
    "cstm_cits = np.sort(np.array(cstm_citations))\n",
    "print(\"Excluding...\", cstm_cits[cstm_cits > 100])\n",
    "print(\"Total:\", cstm_cits[cstm_cits <= 100].shape[0])\n",
    "print(np.mean(cstm_cits[cstm_cits <= 100]))\n",
    "plt.hist(cstm_cits[cstm_cits <= 100], bins=40)\n",
    "plt.show()\n",
    "\n",
    "rat = np.mean(bnch_cits[bnch_cits <= 100])/np.mean(cstm_cits[cstm_cits <= 100])\n",
    "agg_rat = agg_rat + n*rat\n",
    "N = N + n\n",
    "print(rat)\n",
    "\n",
    "\n",
    "print(\"NOT OPEN ACCESS AND CODE RELEASE\")\n",
    "\n",
    "bnch_citations = []\n",
    "cstm_citations = []\n",
    "n = 0\n",
    "for d in [d for d in data if not open_access(d) and released_code(d)]:\n",
    "    if used_any_benchmark(d) or used_custom_re(d):\n",
    "        try:\n",
    "            bnch_citations = bnch_citations + [int(d[\"citations\"])/(2019 - int(d[\"year\"]))]\n",
    "        except ValueError:\n",
    "            print(d[\"ind\"], \"needs reviewing\")\n",
    "        n = n + 1\n",
    "    elif used_custom_nore(d):\n",
    "        try:\n",
    "            cstm_citations = cstm_citations + [int(d[\"citations\"])/(2019 - int(d[\"year\"]))]\n",
    "        except ValueError:\n",
    "            print(d[\"ind\"], \"needs reviewing\")\n",
    "        n = n + 1\n",
    "\n",
    "            \n",
    "# First benchmark\n",
    "bnch_cits = np.sort(np.array(bnch_citations))\n",
    "print(\"Excluding...\", bnch_cits[bnch_cits > 100])\n",
    "print(\"Total:\", bnch_cits[bnch_cits <= 100].shape[0])\n",
    "print(np.mean(bnch_cits[bnch_cits <= 100]))\n",
    "plt.hist(bnch_cits[bnch_cits <= 100], bins=40)\n",
    "plt.show()\n",
    "\n",
    "print(\"\\n\")\n",
    "# Then custom no release\n",
    "cstm_cits = np.sort(np.array(cstm_citations))\n",
    "print(\"Excluding...\", cstm_cits[cstm_cits > 100])\n",
    "print(\"Total:\", cstm_cits[cstm_cits <= 100].shape[0])\n",
    "print(np.mean(cstm_cits[cstm_cits <= 100]))\n",
    "plt.hist(cstm_cits[cstm_cits <= 100], bins=40)\n",
    "plt.show()\n",
    "\n",
    "rat = np.mean(bnch_cits[bnch_cits <= 100])/np.mean(cstm_cits[cstm_cits <= 100])\n",
    "agg_rat = agg_rat + n*rat\n",
    "N = N + n\n",
    "print(rat)\n",
    "\n",
    "\n",
    "print(\"OPEN ACCESS AND NO CODE RELEASE\")\n",
    "\n",
    "bnch_citations = []\n",
    "cstm_citations = []\n",
    "n = 0\n",
    "for d in [d for d in data if not open_access(d) and not released_code(d)]:\n",
    "    if used_any_benchmark(d) or used_custom_re(d):\n",
    "        try:\n",
    "            bnch_citations = bnch_citations + [int(d[\"citations\"])/(2019 - int(d[\"year\"]))]\n",
    "        except ValueError:\n",
    "            print(d[\"ind\"], \"needs reviewing\")\n",
    "        n = n + 1\n",
    "    elif used_custom_nore(d):\n",
    "        try:\n",
    "            cstm_citations = cstm_citations + [int(d[\"citations\"])/(2019 - int(d[\"year\"]))]\n",
    "        except ValueError:\n",
    "            print(d[\"ind\"], \"needs reviewing\")\n",
    "        n = n + 1\n",
    "\n",
    "            \n",
    "# First benchmark\n",
    "bnch_cits = np.sort(np.array(bnch_citations))\n",
    "print(\"Excluding...\", bnch_cits[bnch_cits > 100])\n",
    "print(\"Total:\", bnch_cits[bnch_cits <= 100].shape[0])\n",
    "print(np.mean(bnch_cits[bnch_cits <= 100]))\n",
    "plt.hist(bnch_cits[bnch_cits <= 100], bins=40)\n",
    "plt.show()\n",
    "\n",
    "print(\"\\n\")\n",
    "# Then custom no release\n",
    "cstm_cits = np.sort(np.array(cstm_citations))\n",
    "print(\"Excluding...\", cstm_cits[cstm_cits > 100])\n",
    "print(\"Total:\", cstm_cits[cstm_cits <= 100].shape[0])\n",
    "print(np.mean(cstm_cits[cstm_cits <= 100]))\n",
    "plt.hist(cstm_cits[cstm_cits <= 100], bins=40)\n",
    "plt.show()\n",
    "\n",
    "\n",
    "rat = np.mean(bnch_cits[bnch_cits <= 100])/np.mean(cstm_cits[cstm_cits <= 100])\n",
    "agg_rat = agg_rat + n*rat\n",
    "N = N + n\n",
    "print(rat)\n",
    "\n",
    "\n",
    "print(\"RATIO AFTER CONTROLLING:\", agg_rat/N)"
   ]
  },
  {
   "cell_type": "code",
   "execution_count": null,
   "metadata": {},
   "outputs": [],
   "source": []
  }
 ],
 "metadata": {
  "kernelspec": {
   "display_name": "Python 3",
   "language": "python",
   "name": "python3"
  },
  "language_info": {
   "codemirror_mode": {
    "name": "ipython",
    "version": 3
   },
   "file_extension": ".py",
   "mimetype": "text/x-python",
   "name": "python",
   "nbconvert_exporter": "python",
   "pygments_lexer": "ipython3",
   "version": "3.6.8"
  }
 },
 "nbformat": 4,
 "nbformat_minor": 2
}
