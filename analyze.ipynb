{
 "cells": [
  {
   "cell_type": "code",
   "execution_count": 1,
   "metadata": {},
   "outputs": [],
   "source": [
    "import json\n",
    "\n",
    "import matplotlib.pyplot as plt\n",
    "import numpy as np"
   ]
  },
  {
   "cell_type": "code",
   "execution_count": 2,
   "metadata": {},
   "outputs": [
    {
     "name": "stdout",
     "output_type": "stream",
     "text": [
      "Windsorizing 37 from 731 to 150 citations\n",
      "Windsorizing 481 from 236 to 200 citations\n"
     ]
    }
   ],
   "source": [
    "with open(\"aggregated.json\") as f:\n",
    "    data = json.loads(f.read())\n",
    "\n",
    "def used_custom_nore(d):\n",
    "    custom = [s for s in d[\"whichdata\"] if s == \"custom\" or s == \"custom simulated\"]\n",
    "    return len(custom) == len(d[\"whichdata\"]) and d[\"didpublish\"] == \"no\" \n",
    "\n",
    "def used_custom_re(d):\n",
    "    custom = [s for s in d[\"whichdata\"] if s == \"custom\" or s == \"custom simulated\"]\n",
    "    return len(custom) == len(d[\"whichdata\"]) and d[\"didpublish\"] != \"no\" and d[\"didpublish\"] != \"\"\n",
    "\n",
    "def used_any_benchmark(d):\n",
    "    not_custom = [s for s in d[\"whichdata\"] if s != \"custom\" and s != \"custom simulated\" and s != \"phantom\"]\n",
    "    return len(not_custom) > 0\n",
    "    \n",
    "# Order was randomized, we did a bit too many, just select the first 100 from each year\n",
    "even_dat = []\n",
    "counts = [0 for i in range(5)]\n",
    "for d in data:\n",
    "    if used_custom_nore(d) or used_custom_re(d) or used_any_benchmark(d):\n",
    "        year_ind = 2018 - int(d[\"year\"])\n",
    "        if counts[year_ind] < 100:\n",
    "            even_dat = even_dat + [d]\n",
    "            counts[year_ind] = counts[year_ind] + 1\n",
    "            \n",
    "data = even_dat\n",
    "\n",
    "# Windsorize to 50 citations per year\n",
    "for i, d in enumerate(data):\n",
    "    if int(d[\"citations\"])/(2019 - int(d[\"year\"])) > 50:\n",
    "        print(\"Windsorizing {} from {} to {} citations\".format(d[\"ind\"], data[i][\"citations\"], str(50*(2019 - int(d[\"year\"])))))\n",
    "        data[i][\"citations\"] = str(50*(2019 - int(d[\"year\"])))"
   ]
  },
  {
   "cell_type": "markdown",
   "metadata": {},
   "source": [
    "## How often are benchmarks not cited?"
   ]
  },
  {
   "cell_type": "code",
   "execution_count": 3,
   "metadata": {},
   "outputs": [
    {
     "name": "stdout",
     "output_type": "stream",
     "text": [
      "217 papers found that used a benchmark\n",
      "45 of those missed or improperly cited at least one of those benchmarks\n",
      "That's 20.7 per cent!\n"
     ]
    }
   ],
   "source": [
    "ub = 0\n",
    "ubnc = 0\n",
    "for d in data:\n",
    "    if used_any_benchmark(d):\n",
    "        ub = ub + 1\n",
    "        if d[\"didcite\"] != \"all\" and d[\"didcite\"] != \"\":\n",
    "            ubnc = ubnc + 1\n",
    "        if d[\"didcite\"] == \"\":\n",
    "            print(d[\"ind\"], \"needs filling\")\n",
    "            print(json.dumps(d, indent=2))\n",
    "            \n",
    "print(ub, \"papers found that used a benchmark\")\n",
    "print(ubnc, \"of those missed or improperly cited at least one of those benchmarks\")\n",
    "print(\"That's {:0.1f} per cent!\".format(100*ubnc/ub))"
   ]
  },
  {
   "cell_type": "markdown",
   "metadata": {},
   "source": [
    "## How often is custom data used?"
   ]
  },
  {
   "cell_type": "code",
   "execution_count": 4,
   "metadata": {},
   "outputs": [
    {
     "name": "stdout",
     "output_type": "stream",
     "text": [
      "309 papers found that used custom data\n",
      "15 of those released or promised to release their data\n",
      "That's 4.9 per cent!\n"
     ]
    }
   ],
   "source": [
    "def used_any_custom_data(d):\n",
    "    not_custom = [s for s in d[\"whichdata\"] if s == \"custom\" or s == \"custom simulated\"]\n",
    "    return len(not_custom) > 0\n",
    "\n",
    "\n",
    "def did_release_data(d):\n",
    "    return d[\"didpublish\"] != \"no\" and d[\"didpublish\"] != \"\"\n",
    "    \n",
    "\n",
    "du = 0\n",
    "dure = 0\n",
    "for d in data:\n",
    "    if used_any_custom_data(d):\n",
    "        du = du + 1\n",
    "        if did_release_data(d):\n",
    "            dure = dure + 1\n",
    "            \n",
    "print(du, \"papers found that used custom data\")\n",
    "print(dure, \"of those released or promised to release their data\")\n",
    "print(\"That's {:0.1f} per cent!\".format(100*dure/du))"
   ]
  },
  {
   "cell_type": "code",
   "execution_count": 5,
   "metadata": {},
   "outputs": [
    {
     "name": "stdout",
     "output_type": "stream",
     "text": [
      "27 papers found that used custom and benchmark data\n",
      "3 of those released or promised to release their data\n",
      "That's 11.1 per cent!\n"
     ]
    }
   ],
   "source": [
    "du = 0\n",
    "dure = 0\n",
    "for d in data:\n",
    "    if used_any_custom_data(d) and used_any_benchmark(d):\n",
    "        du = du + 1\n",
    "        if d[\"didpublish\"] != \"no\" and d[\"didpublish\"] != \"\":\n",
    "            dure = dure + 1\n",
    "            \n",
    "print(du, \"papers found that used custom and benchmark data\")\n",
    "print(dure, \"of those released or promised to release their data\")\n",
    "print(\"That's {:0.1f} per cent!\".format(100*dure/du))"
   ]
  },
  {
   "cell_type": "markdown",
   "metadata": {},
   "source": [
    "## How often are MICCAI papers cited?"
   ]
  },
  {
   "cell_type": "code",
   "execution_count": 6,
   "metadata": {},
   "outputs": [
    {
     "data": {
      "image/png": "[encoded data removed]",
      "text/plain": [
       "<Figure size 432x288 with 1 Axes>"
      ]
     },
     "metadata": {
      "needs_background": "light"
     },
     "output_type": "display_data"
    },
    {
     "name": "stdout",
     "output_type": "stream",
     "text": [
      "4.0842\n"
     ]
    }
   ],
   "source": [
    "citations = []\n",
    "for d in data:\n",
    "    try:\n",
    "        citations = citations + [int(d[\"citations\"])/(2019 - int(d[\"year\"]))]\n",
    "    except ValueError:\n",
    "        print(d[\"ind\"], \"needs reviewing\")\n",
    "            \n",
    "cits = np.sort(np.array(citations))\n",
    "plt.hist(cits, bins=40)\n",
    "plt.show()\n",
    "print(np.mean(cits))"
   ]
  },
  {
   "cell_type": "markdown",
   "metadata": {},
   "source": [
    "## What if we partition by benchmark vs custom?"
   ]
  },
  {
   "cell_type": "code",
   "execution_count": 7,
   "metadata": {},
   "outputs": [
    {
     "name": "stdout",
     "output_type": "stream",
     "text": [
      "Excluding... []\n",
      "Total: 229\n",
      "5.426346433770015\n"
     ]
    },
    {
     "data": {
      "image/png": "[encoded data removed]",
      "text/plain": [
       "<Figure size 432x288 with 1 Axes>"
      ]
     },
     "metadata": {
      "needs_background": "light"
     },
     "output_type": "display_data"
    },
    {
     "name": "stdout",
     "output_type": "stream",
     "text": [
      "\n",
      "\n",
      "Excluding... []\n",
      "Total: 271\n",
      "2.950061500615006\n"
     ]
    },
    {
     "data": {
      "image/png": "[encoded data removed]",
      "text/plain": [
       "<Figure size 432x288 with 1 Axes>"
      ]
     },
     "metadata": {
      "needs_background": "light"
     },
     "output_type": "display_data"
    },
    {
     "name": "stdout",
     "output_type": "stream",
     "text": [
      "\n",
      "\n",
      "Excluding... []\n",
      "Total: 15\n",
      "8.981111111111112\n"
     ]
    },
    {
     "data": {
      "image/png": "[encoded data removed]",
      "text/plain": [
       "<Figure size 432x288 with 1 Axes>"
      ]
     },
     "metadata": {
      "needs_background": "light"
     },
     "output_type": "display_data"
    }
   ],
   "source": [
    "bnch_citations = []\n",
    "cstm_citations = []\n",
    "csre_citations = []\n",
    "for d in data:\n",
    "    if used_any_benchmark(d) or used_custom_re(d):\n",
    "        try:\n",
    "            bnch_citations = bnch_citations + [int(d[\"citations\"])/(2019 - int(d[\"year\"]))]\n",
    "        except ValueError:\n",
    "            print(d[\"ind\"], \"needs reviewing\")\n",
    "    elif used_custom_nore(d):\n",
    "        try:\n",
    "            cstm_citations = cstm_citations + [int(d[\"citations\"])/(2019 - int(d[\"year\"]))]\n",
    "        except ValueError:\n",
    "            print(d[\"ind\"], \"needs reviewing\")\n",
    "    if used_any_custom_data(d) and did_release_data(d):\n",
    "        try:\n",
    "            csre_citations = csre_citations + [int(d[\"citations\"])/(2019 - int(d[\"year\"]))]\n",
    "        except ValueError:\n",
    "            print(d[\"ind\"], \"needs reviewing\")\n",
    "\n",
    "            \n",
    "# First benchmark\n",
    "bnch_cits = np.sort(np.array(bnch_citations))\n",
    "print(\"Excluding...\", bnch_cits[bnch_cits > 100])\n",
    "print(\"Total:\", bnch_cits[bnch_cits <= 100].shape[0])\n",
    "print(np.mean(bnch_cits[bnch_cits <= 100]))\n",
    "plt.hist(bnch_cits[bnch_cits <= 100], bins=40)\n",
    "plt.show()\n",
    "\n",
    "print(\"\\n\")\n",
    "# Then custom no release\n",
    "cstm_cits = np.sort(np.array(cstm_citations))\n",
    "print(\"Excluding...\", cstm_cits[cstm_cits > 100])\n",
    "print(\"Total:\", cstm_cits[cstm_cits <= 100].shape[0])\n",
    "print(np.mean(cstm_cits[cstm_cits <= 100]))\n",
    "plt.hist(cstm_cits[cstm_cits <= 100], bins=40)\n",
    "plt.show()\n",
    "\n",
    "print(\"\\n\")\n",
    "# Then custom and release\n",
    "csre_cits = np.sort(np.array(csre_citations))\n",
    "print(\"Excluding...\", csre_cits[csre_cits > 100])\n",
    "print(\"Total:\", csre_cits[csre_cits <= 100].shape[0])\n",
    "print(np.mean(csre_cits[csre_cits <= 100]))\n",
    "plt.hist(csre_cits[csre_cits <= 100], bins=40)\n",
    "plt.show()\n"
   ]
  },
  {
   "cell_type": "markdown",
   "metadata": {},
   "source": [
    "## What if we partition by releasing code or no?"
   ]
  },
  {
   "cell_type": "code",
   "execution_count": 8,
   "metadata": {},
   "outputs": [
    {
     "name": "stdout",
     "output_type": "stream",
     "text": [
      "Excluding... []\n",
      "Total: 36\n",
      "8.883333333333333\n"
     ]
    },
    {
     "data": {
      "image/png": "[encoded data removed]",
      "text/plain": [
       "<Figure size 432x288 with 1 Axes>"
      ]
     },
     "metadata": {
      "needs_background": "light"
     },
     "output_type": "display_data"
    },
    {
     "name": "stdout",
     "output_type": "stream",
     "text": [
      "\n",
      "\n",
      "Excluding... []\n",
      "Total: 464\n",
      "3.711853448275862\n"
     ]
    },
    {
     "data": {
      "image/png": "[encoded data removed]",
      "text/plain": [
       "<Figure size 432x288 with 1 Axes>"
      ]
     },
     "metadata": {
      "needs_background": "light"
     },
     "output_type": "display_data"
    }
   ],
   "source": [
    "def released_code(d):\n",
    "    return d[\"code\"] == \"on\"\n",
    "\n",
    "bnch_citations = []\n",
    "cstm_citations = []\n",
    "for d in data:\n",
    "    if released_code(d):\n",
    "        try:\n",
    "            bnch_citations = bnch_citations + [int(d[\"citations\"])/(2019 - int(d[\"year\"]))]\n",
    "        except ValueError:\n",
    "            print(d[\"ind\"], \"needs reviewing\")\n",
    "    else:\n",
    "        try:\n",
    "            cstm_citations = cstm_citations + [int(d[\"citations\"])/(2019 - int(d[\"year\"]))]\n",
    "        except ValueError:\n",
    "            print(d[\"ind\"], \"needs reviewing\")\n",
    "\n",
    "            \n",
    "# First benchmark\n",
    "bnch_cits = np.sort(np.array(bnch_citations))\n",
    "print(\"Excluding...\", bnch_cits[bnch_cits > 100])\n",
    "print(\"Total:\", bnch_cits[bnch_cits <= 100].shape[0])\n",
    "print(np.mean(bnch_cits[bnch_cits <= 100]))\n",
    "plt.hist(bnch_cits[bnch_cits <= 100], bins=40)\n",
    "plt.show()\n",
    "\n",
    "print(\"\\n\")\n",
    "# Then custom no release\n",
    "cstm_cits = np.sort(np.array(cstm_citations))\n",
    "print(\"Excluding...\", cstm_cits[cstm_cits > 100])\n",
    "print(\"Total:\", cstm_cits[cstm_cits <= 100].shape[0])\n",
    "print(np.mean(cstm_cits[cstm_cits <= 100]))\n",
    "plt.hist(cstm_cits[cstm_cits <= 100], bins=40)\n",
    "plt.show()\n"
   ]
  },
  {
   "cell_type": "markdown",
   "metadata": {},
   "source": [
    "## What if we partition by open access vs no?"
   ]
  },
  {
   "cell_type": "code",
   "execution_count": 9,
   "metadata": {},
   "outputs": [
    {
     "name": "stdout",
     "output_type": "stream",
     "text": [
      "Excluding... []\n",
      "Total: 390\n",
      "4.771452991452993\n"
     ]
    },
    {
     "data": {
      "image/png": "[encoded data removed]",
      "text/plain": [
       "<Figure size 432x288 with 1 Axes>"
      ]
     },
     "metadata": {
      "needs_background": "light"
     },
     "output_type": "display_data"
    },
    {
     "name": "stdout",
     "output_type": "stream",
     "text": [
      "\n",
      "\n",
      "Excluding... []\n",
      "Total: 110\n",
      "1.6475757575757572\n"
     ]
    },
    {
     "data": {
      "image/png": "[encoded data removed]",
      "text/plain": [
       "<Figure size 432x288 with 1 Axes>"
      ]
     },
     "metadata": {
      "needs_background": "light"
     },
     "output_type": "display_data"
    }
   ],
   "source": [
    "def open_access(d):\n",
    "    return \"on\" in d[\"preprint\"] + d[\"personal\"]\n",
    "\n",
    "bnch_citations = []\n",
    "cstm_citations = []\n",
    "for d in data:\n",
    "    if open_access(d):\n",
    "        try:\n",
    "            bnch_citations = bnch_citations + [int(d[\"citations\"])/(2019 - int(d[\"year\"]))]\n",
    "        except ValueError:\n",
    "            print(d[\"ind\"], \"needs reviewing\")\n",
    "    else:\n",
    "        try:\n",
    "            cstm_citations = cstm_citations + [int(d[\"citations\"])/(2019 - int(d[\"year\"]))]\n",
    "        except ValueError:\n",
    "            print(d[\"ind\"], \"needs reviewing\")\n",
    "\n",
    "            \n",
    "# First benchmark\n",
    "bnch_cits = np.sort(np.array(bnch_citations))\n",
    "print(\"Excluding...\", bnch_cits[bnch_cits > 100])\n",
    "print(\"Total:\", bnch_cits[bnch_cits <= 100].shape[0])\n",
    "print(np.mean(bnch_cits[bnch_cits <= 100]))\n",
    "plt.hist(bnch_cits[bnch_cits <= 100], bins=40)\n",
    "plt.show()\n",
    "\n",
    "print(\"\\n\")\n",
    "# Then custom no release\n",
    "cstm_cits = np.sort(np.array(cstm_citations))\n",
    "print(\"Excluding...\", cstm_cits[cstm_cits > 100])\n",
    "print(\"Total:\", cstm_cits[cstm_cits <= 100].shape[0])\n",
    "print(np.mean(cstm_cits[cstm_cits <= 100]))\n",
    "plt.hist(cstm_cits[cstm_cits <= 100], bins=40)\n",
    "plt.show()\n"
   ]
  },
  {
   "cell_type": "markdown",
   "metadata": {},
   "source": [
    "## How's public benchmark use over time?"
   ]
  },
  {
   "cell_type": "code",
   "execution_count": 19,
   "metadata": {},
   "outputs": [
    {
     "data": {
      "image/png": "[encoded data removed]",
      "text/plain": [
       "<Figure size 640x480 with 1 Axes>"
      ]
     },
     "metadata": {},
     "output_type": "display_data"
    },
    {
     "name": "stdout",
     "output_type": "stream",
     "text": [
      "2014 0.36 100\n",
      "2015 0.43 100\n",
      "2016 0.57 100\n",
      "2017 0.37 100\n",
      "2018 0.56 100\n"
     ]
    }
   ],
   "source": [
    "bnch_counts = [0 for _ in range(5)]\n",
    "cstm_counts = [0 for _ in range(5)]\n",
    "csre_counts = [0 for _ in range(5)]\n",
    "\n",
    "for d in data:\n",
    "    year = 4 - 2018 + int(d[\"year\"])\n",
    "    if used_any_benchmark(d):\n",
    "        try:\n",
    "            bnch_counts[year] = bnch_counts[year] + 1\n",
    "        except ValueError:\n",
    "            print(d[\"ind\"], \"needs reviewing\")\n",
    "    elif used_custom_nore(d):\n",
    "        try:\n",
    "            cstm_counts[year] = cstm_counts[year] + 1\n",
    "        except ValueError:\n",
    "            print(d[\"ind\"], \"needs reviewing\")\n",
    "    elif used_custom_re(d):\n",
    "        try:\n",
    "            csre_counts[year] = csre_counts[year] + 1\n",
    "        except ValueError:\n",
    "            print(d[\"ind\"], \"needs reviewing\")\n",
    "\n",
    "years = range(2014, 2019)\n",
    "\n",
    "# Formatting this plot\n",
    "SMALL_SIZE = 18\n",
    "MEDIUM_SIZE = 22\n",
    "BIGGER_SIZE = 28\n",
    "\n",
    "plt.rc('font', size=SMALL_SIZE)          # controls default text sizes\n",
    "plt.rc('axes', titlesize=SMALL_SIZE)     # fontsize of the axes title\n",
    "plt.rc('axes', labelsize=MEDIUM_SIZE)    # fontsize of the x and y labels\n",
    "plt.rc('xtick', labelsize=SMALL_SIZE)    # fontsize of the tick labels\n",
    "plt.rc('ytick', labelsize=SMALL_SIZE)    # fontsize of the tick labels\n",
    "plt.rc('legend', fontsize=SMALL_SIZE)    # legend fontsize\n",
    "plt.rc('figure', titlesize=BIGGER_SIZE)  # fontsize of the figure title\n",
    "\n",
    "plt.figure(num=None, figsize=(8, 6), dpi=80, facecolor='w', edgecolor='k')\n",
    "plt.grid(linestyle='--', linewidth=2, c=\"lightgrey\", axis=\"y\")\n",
    "\n",
    "plt.bar(years, bnch_counts, 0.9, bottom=np.array(cstm_counts) + np.array(csre_counts), color=(0.2, 0.4, 0.6, 0.6))\n",
    "plt.bar(years, csre_counts, 0.9, bottom=cstm_counts, color=(0.2, 0.4, 0.6, 0.8))\n",
    "plt.bar(years, cstm_counts, 0.9, color=(0.2, 0.4, 0.6, 1.0))\n",
    "plt.legend([\"Existing Public\", \"Private, Released\", \"Private, No Release\"], loc=\"lower left\")\n",
    "plt.xlabel(\"Year\")\n",
    "plt.ylabel(\"Papers\")\n",
    "plt.title(\"Use of Private vs Public Data Over Time\")\n",
    "\n",
    "plt.rc('axes', axisbelow=True)\n",
    "\n",
    "plt.show()\n",
    "\n",
    "for i in range(5):\n",
    "    print(years[i], (bnch_counts[i]+csre_counts[i])/(bnch_counts[i]+cstm_counts[i]+csre_counts[i]), bnch_counts[i]+cstm_counts[i]+csre_counts[i])\n"
   ]
  },
  {
   "cell_type": "markdown",
   "metadata": {},
   "source": [
    "## How's code release over time?"
   ]
  },
  {
   "cell_type": "code",
   "execution_count": 11,
   "metadata": {},
   "outputs": [
    {
     "data": {
      "image/png": "[encoded data removed]",
      "text/plain": [
       "<Figure size 640x480 with 1 Axes>"
      ]
     },
     "metadata": {},
     "output_type": "display_data"
    },
    {
     "name": "stdout",
     "output_type": "stream",
     "text": [
      "2014 0.06\n",
      "2015 0.06\n",
      "2016 0.08\n",
      "2017 0.07\n",
      "2018 0.09\n"
     ]
    }
   ],
   "source": [
    "bnch_counts = [0 for _ in range(5)]\n",
    "cstm_counts = [0 for _ in range(5)]\n",
    "\n",
    "for d in data:\n",
    "    year = 4 - 2018 + int(d[\"year\"])\n",
    "    #if not used_custom_data(d) and not used_any_benchmark(d):\n",
    "    #    continue\n",
    "    if released_code(d):\n",
    "        try:\n",
    "            bnch_counts[year] = bnch_counts[year] + 1\n",
    "        except ValueError:\n",
    "            print(d[\"ind\"], \"needs reviewing\")\n",
    "    else:\n",
    "        try:\n",
    "            cstm_counts[year] = cstm_counts[year] + 1\n",
    "        except ValueError:\n",
    "            print(d[\"ind\"], \"needs reviewing\")\n",
    "\n",
    "            \n",
    "\n",
    "plt.figure(num=None, figsize=(8, 6), dpi=80, facecolor='w', edgecolor='k')\n",
    "plt.grid(linestyle='--', linewidth=2, c=\"lightgrey\", axis=\"y\")\n",
    "years = range(2014, 2019)\n",
    "plt.bar(years, bnch_counts, 0.9, bottom=cstm_counts, color=(0.2, 0.4, 0.6, 0.6))\n",
    "plt.bar(years, cstm_counts, 0.9, color=(0.2, 0.4, 0.6, 1.0))\n",
    "plt.legend([\"Code Available\", \"Code Not Available\", \"Benchmark\"], loc=\"lower left\")\n",
    "plt.xlabel(\"Year\")\n",
    "plt.ylabel(\"Papers\")\n",
    "plt.title(\"Release of Code Over Time\")\n",
    "plt.show()\n",
    "\n",
    "for i in range(5):\n",
    "    print(years[i], bnch_counts[i]/(bnch_counts[i]+cstm_counts[i]))"
   ]
  },
  {
   "cell_type": "markdown",
   "metadata": {},
   "source": [
    "# How's data release over time?"
   ]
  },
  {
   "cell_type": "code",
   "execution_count": 12,
   "metadata": {},
   "outputs": [
    {
     "data": {
      "image/png": "[encoded data removed]",
      "text/plain": [
       "<Figure size 432x288 with 1 Axes>"
      ]
     },
     "metadata": {
      "needs_background": "light"
     },
     "output_type": "display_data"
    },
    {
     "name": "stdout",
     "output_type": "stream",
     "text": [
      "2014 0.015384615384615385\n",
      "2015 0.05\n",
      "2016 0.0851063829787234\n",
      "2017 0.015625\n",
      "2018 0.06382978723404255\n"
     ]
    }
   ],
   "source": [
    "bnch_counts = [0 for _ in range(5)]\n",
    "cstm_counts = [0 for _ in range(5)]\n",
    "\n",
    "for d in data:\n",
    "    year = 4 - 2018 + int(d[\"year\"])\n",
    "    if used_custom_re(d):\n",
    "        try:\n",
    "            bnch_counts[year] = bnch_counts[year] + 1\n",
    "        except ValueError:\n",
    "            print(d[\"ind\"], \"needs reviewing\")\n",
    "    elif used_custom_nore(d):\n",
    "        try:\n",
    "            cstm_counts[year] = cstm_counts[year] + 1\n",
    "        except ValueError:\n",
    "            print(d[\"ind\"], \"needs reviewing\")\n",
    "\n",
    "years = range(2014, 2019)\n",
    "plt.bar(years, cstm_counts, 0.9, color=(0.2, 0.4, 0.6, 1.0))\n",
    "plt.bar(years, bnch_counts, 0.9, bottom=cstm_counts, color=(0.2, 0.4, 0.6, 0.6))\n",
    "plt.legend([\"Code Not Available\", \"Code Available\", \"Benchmark\"], loc=\"lower left\")\n",
    "plt.show()\n",
    "\n",
    "for i in range(5):\n",
    "    print(years[i], bnch_counts[i]/(bnch_counts[i]+cstm_counts[i]))"
   ]
  },
  {
   "cell_type": "markdown",
   "metadata": {},
   "source": [
    "## Fieller's method seems like the best choice given the distributions"
   ]
  },
  {
   "cell_type": "code",
   "execution_count": 13,
   "metadata": {},
   "outputs": [
    {
     "name": "stdout",
     "output_type": "stream",
     "text": [
      "OPEN ACCESS AND CODE RELEASE\n",
      "Public\n",
      "N: 22\n",
      "M: 10.787878787878787\n",
      "S: 11.321510301212427\n",
      "\n",
      "Private\n",
      "N: 8\n",
      "M: 9.425\n",
      "S: 15.447228715857095\n",
      "\n",
      "Ratio: 1.1446025239128685\n",
      "\n",
      "\n",
      "OPEN ACCESS AND NO CODE RELEASE\n",
      "Public\n",
      "N: 167\n",
      "M: 5.561676646706586\n",
      "S: 7.658937680716954\n",
      "\n",
      "Private\n",
      "N: 193\n",
      "M: 3.208981001727116\n",
      "S: 4.418110846520646\n",
      "\n",
      "Ratio: 1.733159730055497\n",
      "\n",
      "\n",
      "NOT OPEN ACCESS AND CODE RELEASE\n",
      "Public\n",
      "N: 5\n",
      "M: 1.1466666666666665\n",
      "S: 0.9270263091076638\n",
      "\n",
      "Private\n",
      "N: 1\n",
      "M: 1.3333333333333333\n",
      "S: 0.0\n",
      "\n",
      "Ratio: 0.8599999999999999\n",
      "\n",
      "\n",
      "NOT OPEN ACCESS AND NO CODE RELEASE\n",
      "Public\n",
      "N: 35\n",
      "M: 2.021904761904762\n",
      "S: 2.1068436160939275\n",
      "\n",
      "Private\n",
      "N: 69\n",
      "M: 1.4985507246376812\n",
      "S: 1.4079963125616046\n",
      "\n",
      "Ratio: 1.3492401215805472\n",
      "\n",
      "\n",
      "RATIO AFTER CONTROLLING: 1.6075131023634834\n"
     ]
    }
   ],
   "source": [
    "print(\"OPEN ACCESS AND CODE RELEASE\")\n",
    "\n",
    "agg_rat = 0\n",
    "N = 0\n",
    "strata_bnch_chars = []\n",
    "strata_cstm_chars = []\n",
    "\n",
    "bnch_citations = []\n",
    "cstm_citations = []\n",
    "strt_citations = []\n",
    "n = 0\n",
    "for d in [d for d in data if open_access(d) and released_code(d)]:\n",
    "    if used_any_benchmark(d) or used_custom_re(d):\n",
    "        try:\n",
    "            bnch_citations = bnch_citations + [int(d[\"citations\"])/(2019 - int(d[\"year\"]))]\n",
    "        except ValueError:\n",
    "            print(d[\"ind\"], \"needs reviewing\")\n",
    "        n = n + 1\n",
    "    elif used_custom_nore(d):\n",
    "        try:\n",
    "            cstm_citations = cstm_citations + [int(d[\"citations\"])/(2019 - int(d[\"year\"]))]\n",
    "        except ValueError:\n",
    "            print(d[\"ind\"], \"needs reviewing\")\n",
    "        n = n + 1\n",
    "\n",
    "\n",
    "print(\"Public\")\n",
    "# First benchmark\n",
    "bnch_cits = np.array(bnch_citations)\n",
    "# print(\"Excluding...\", bnch_cits[bnch_cits > 100])\n",
    "print(\"N:\", bnch_cits.shape[0])\n",
    "print(\"M:\", np.mean(bnch_cits))\n",
    "print(\"S:\", np.std(bnch_cits))\n",
    "# plt.hist(bnch_cits[bnch_cits <= 100], bins=40)\n",
    "# plt.show()\n",
    "\n",
    "print()\n",
    "print(\"Private\")\n",
    "# Then custom no release\n",
    "cstm_cits = np.sort(np.array(cstm_citations))\n",
    "# print(\"Excluding...\", cstm_cits[cstm_cits > 100])\n",
    "print(\"N:\", cstm_cits.shape[0])\n",
    "print(\"M:\", np.mean(cstm_cits))\n",
    "print(\"S:\", np.std(cstm_cits))\n",
    "# plt.hist(cstm_cits[cstm_cits <= 100], bins=40)\n",
    "# plt.show()\n",
    "\n",
    "rat = np.mean(bnch_cits[bnch_cits <= 100])/np.mean(cstm_cits[cstm_cits <= 100])\n",
    "agg_rat = agg_rat + n*rat\n",
    "N = N + n\n",
    "print()\n",
    "print(\"Ratio:\", rat)\n",
    "\n",
    "strata_bnch_chars = strata_bnch_chars + [[bnch_cits.shape[0], np.mean(bnch_cits), np.std(bnch_cits)]]\n",
    "strata_cstm_chars = strata_cstm_chars + [[cstm_cits.shape[0], np.mean(cstm_cits), np.std(cstm_cits)]]\n",
    "\n",
    "print(\"\\n\")\n",
    "print(\"OPEN ACCESS AND NO CODE RELEASE\")\n",
    "\n",
    "bnch_citations = []\n",
    "cstm_citations = []\n",
    "n = 0\n",
    "for d in [d for d in data if open_access(d) and not released_code(d)]:\n",
    "    if used_any_benchmark(d) or used_custom_re(d):\n",
    "        try:\n",
    "            bnch_citations = bnch_citations + [int(d[\"citations\"])/(2019 - int(d[\"year\"]))]\n",
    "        except ValueError:\n",
    "            print(d[\"ind\"], \"needs reviewing\")\n",
    "        n = n + 1\n",
    "    elif used_custom_nore(d):\n",
    "        try:\n",
    "            cstm_citations = cstm_citations + [int(d[\"citations\"])/(2019 - int(d[\"year\"]))]\n",
    "        except ValueError:\n",
    "            print(d[\"ind\"], \"needs reviewing\")\n",
    "        n = n + 1\n",
    "\n",
    "            \n",
    "print(\"Public\")\n",
    "# First benchmark\n",
    "bnch_cits = np.array(bnch_citations)\n",
    "# print(\"Excluding...\", bnch_cits[bnch_cits > 100])\n",
    "print(\"N:\", bnch_cits.shape[0])\n",
    "print(\"M:\", np.mean(bnch_cits))\n",
    "print(\"S:\", np.std(bnch_cits))\n",
    "# plt.hist(bnch_cits[bnch_cits <= 100], bins=40)\n",
    "# plt.show()\n",
    "\n",
    "print()\n",
    "print(\"Private\")\n",
    "# Then custom no release\n",
    "cstm_cits = np.sort(np.array(cstm_citations))\n",
    "# print(\"Excluding...\", cstm_cits[cstm_cits > 100])\n",
    "print(\"N:\", cstm_cits.shape[0])\n",
    "print(\"M:\", np.mean(cstm_cits))\n",
    "print(\"S:\", np.std(cstm_cits))\n",
    "# plt.hist(cstm_cits[cstm_cits <= 100], bins=40)\n",
    "# plt.show()\n",
    "\n",
    "rat = np.mean(bnch_cits[bnch_cits <= 100])/np.mean(cstm_cits[cstm_cits <= 100])\n",
    "agg_rat = agg_rat + n*rat\n",
    "N = N + n\n",
    "print()\n",
    "print(\"Ratio:\", rat)\n",
    "\n",
    "strata_bnch_chars = strata_bnch_chars + [[bnch_cits.shape[0], np.mean(bnch_cits), np.std(bnch_cits)]]\n",
    "strata_cstm_chars = strata_cstm_chars + [[cstm_cits.shape[0], np.mean(cstm_cits), np.std(cstm_cits)]]\n",
    "\n",
    "\n",
    "print(\"\\n\")\n",
    "print(\"NOT OPEN ACCESS AND CODE RELEASE\")\n",
    "\n",
    "bnch_citations = []\n",
    "cstm_citations = []\n",
    "n = 0\n",
    "for d in [d for d in data if not open_access(d) and released_code(d)]:\n",
    "    if used_any_benchmark(d) or used_custom_re(d):\n",
    "        try:\n",
    "            bnch_citations = bnch_citations + [int(d[\"citations\"])/(2019 - int(d[\"year\"]))]\n",
    "        except ValueError:\n",
    "            print(d[\"ind\"], \"needs reviewing\")\n",
    "        n = n + 1\n",
    "    elif used_custom_nore(d):\n",
    "        try:\n",
    "            cstm_citations = cstm_citations + [int(d[\"citations\"])/(2019 - int(d[\"year\"]))]\n",
    "        except ValueError:\n",
    "            print(d[\"ind\"], \"needs reviewing\")\n",
    "        n = n + 1\n",
    "\n",
    "            \n",
    "print(\"Public\")\n",
    "# First benchmark\n",
    "bnch_cits = np.array(bnch_citations)\n",
    "# print(\"Excluding...\", bnch_cits[bnch_cits > 100])\n",
    "print(\"N:\", bnch_cits.shape[0])\n",
    "print(\"M:\", np.mean(bnch_cits))\n",
    "print(\"S:\", np.std(bnch_cits))\n",
    "# plt.hist(bnch_cits[bnch_cits <= 100], bins=40)\n",
    "# plt.show()\n",
    "\n",
    "print()\n",
    "print(\"Private\")\n",
    "# Then custom no release\n",
    "cstm_cits = np.sort(np.array(cstm_citations))\n",
    "# print(\"Excluding...\", cstm_cits[cstm_cits > 100])\n",
    "print(\"N:\", cstm_cits.shape[0])\n",
    "print(\"M:\", np.mean(cstm_cits))\n",
    "print(\"S:\", np.std(cstm_cits))\n",
    "# plt.hist(cstm_cits[cstm_cits <= 100], bins=40)\n",
    "# plt.show()\n",
    "\n",
    "rat = np.mean(bnch_cits[bnch_cits <= 100])/np.mean(cstm_cits[cstm_cits <= 100])\n",
    "agg_rat = agg_rat + n*rat\n",
    "N = N + n\n",
    "print()\n",
    "print(\"Ratio:\", rat)\n",
    "\n",
    "strata_bnch_chars = strata_bnch_chars + [[bnch_cits.shape[0], np.mean(bnch_cits), np.std(bnch_cits)]]\n",
    "strata_cstm_chars = strata_cstm_chars + [[cstm_cits.shape[0], np.mean(cstm_cits), np.std(cstm_cits)]]\n",
    "\n",
    "\n",
    "print(\"\\n\")\n",
    "print(\"NOT OPEN ACCESS AND NO CODE RELEASE\")\n",
    "\n",
    "bnch_citations = []\n",
    "cstm_citations = []\n",
    "n = 0\n",
    "for d in [d for d in data if not open_access(d) and not released_code(d)]:\n",
    "    if used_any_benchmark(d) or used_custom_re(d):\n",
    "        try:\n",
    "            bnch_citations = bnch_citations + [int(d[\"citations\"])/(2019 - int(d[\"year\"]))]\n",
    "        except ValueError:\n",
    "            print(d[\"ind\"], \"needs reviewing\")\n",
    "        n = n + 1\n",
    "    elif used_custom_nore(d):\n",
    "        try:\n",
    "            cstm_citations = cstm_citations + [int(d[\"citations\"])/(2019 - int(d[\"year\"]))]\n",
    "        except ValueError:\n",
    "            print(d[\"ind\"], \"needs reviewing\")\n",
    "        n = n + 1\n",
    "\n",
    "            \n",
    "print(\"Public\")\n",
    "# First benchmark\n",
    "bnch_cits = np.array(bnch_citations)\n",
    "# print(\"Excluding...\", bnch_cits[bnch_cits > 100])\n",
    "print(\"N:\", bnch_cits.shape[0])\n",
    "print(\"M:\", np.mean(bnch_cits))\n",
    "print(\"S:\", np.std(bnch_cits))\n",
    "# plt.hist(bnch_cits[bnch_cits <= 100], bins=40)\n",
    "# plt.show()\n",
    "\n",
    "print()\n",
    "print(\"Private\")\n",
    "# Then custom no release\n",
    "cstm_cits = np.sort(np.array(cstm_citations))\n",
    "# print(\"Excluding...\", cstm_cits[cstm_cits > 100])\n",
    "print(\"N:\", cstm_cits.shape[0])\n",
    "print(\"M:\", np.mean(cstm_cits))\n",
    "print(\"S:\", np.std(cstm_cits))\n",
    "# plt.hist(cstm_cits[cstm_cits <= 100], bins=40)\n",
    "# plt.show()\n",
    "\n",
    "rat = np.mean(bnch_cits[bnch_cits <= 100])/np.mean(cstm_cits[cstm_cits <= 100])\n",
    "agg_rat = agg_rat + n*rat\n",
    "N = N + n\n",
    "print()\n",
    "print(\"Ratio:\", rat)\n",
    "\n",
    "strata_bnch_chars = strata_bnch_chars + [[bnch_cits.shape[0], np.mean(bnch_cits), np.std(bnch_cits)]]\n",
    "strata_cstm_chars = strata_cstm_chars + [[cstm_cits.shape[0], np.mean(cstm_cits), np.std(cstm_cits)]]\n",
    "\n",
    "print(\"\\n\")\n",
    "print(\n",
    "    \"RATIO AFTER CONTROLLING:\", \n",
    "    agg_rat/N\n",
    ")"
   ]
  },
  {
   "cell_type": "code",
   "execution_count": 14,
   "metadata": {},
   "outputs": [
    {
     "name": "stdout",
     "output_type": "stream",
     "text": [
      "[[22, 10.787878787878787, 11.321510301212427], [167, 5.561676646706586, 7.658937680716954], [5, 1.1466666666666665, 0.9270263091076638], [35, 2.021904761904762, 2.1068436160939275]]\n",
      "[[8, 9.425, 15.447228715857095], [193, 3.208981001727116, 4.418110846520646], [1, 1.3333333333333333, 0.0], [69, 1.4985507246376812, 1.4079963125616046]]\n",
      "Shoot... my means are too close to zero to use Fieller's method :(\n"
     ]
    }
   ],
   "source": [
    "print(strata_bnch_chars)\n",
    "print(strata_cstm_chars)\n",
    "print(\"Shoot... my means are too close to zero to use Fieller's method :(\")"
   ]
  },
  {
   "cell_type": "markdown",
   "metadata": {},
   "source": [
    "## Fuck it, I'm using the Bootstrap"
   ]
  },
  {
   "cell_type": "code",
   "execution_count": 15,
   "metadata": {},
   "outputs": [],
   "source": [
    "def get_stratafied_ratio(fata):\n",
    "    #print(\"OPEN ACCESS AND CODE RELEASE\")\n",
    "\n",
    "    agg_rat = 0\n",
    "    N = 0\n",
    "    strata_bnch_chars = []\n",
    "    strata_cstm_chars = []\n",
    "\n",
    "    bnch_citations = []\n",
    "    cstm_citations = []\n",
    "    strt_citations = []\n",
    "    n = 0\n",
    "    for d in [d for d in fata if open_access(d) and released_code(d)]:\n",
    "        if used_any_benchmark(d) or used_custom_re(d):\n",
    "            try:\n",
    "                bnch_citations = bnch_citations + [int(d[\"citations\"])/(2019 - int(d[\"year\"]))]\n",
    "            except ValueError:\n",
    "                print(d[\"ind\"], \"needs reviewing\")\n",
    "            n = n + 1\n",
    "        elif used_custom_nore(d):\n",
    "            try:\n",
    "                cstm_citations = cstm_citations + [int(d[\"citations\"])/(2019 - int(d[\"year\"]))]\n",
    "            except ValueError:\n",
    "                print(d[\"ind\"], \"needs reviewing\")\n",
    "            n = n + 1\n",
    "\n",
    "\n",
    "    #print(\"Public\")\n",
    "    # First benchmark\n",
    "    bnch_cits = np.array(bnch_citations)\n",
    "    # print(\"Excluding...\", bnch_cits[bnch_cits > 100])\n",
    "    #print(\"N:\", bnch_cits.shape[0])\n",
    "    #print(\"M:\", np.mean(bnch_cits))\n",
    "    #print(\"S:\", np.std(bnch_cits))\n",
    "    # plt.hist(bnch_cits[bnch_cits <= 100], bins=40)\n",
    "    # plt.show()\n",
    "\n",
    "    #print()\n",
    "    #print(\"Private\")\n",
    "    # Then custom no release\n",
    "    cstm_cits = np.sort(np.array(cstm_citations))\n",
    "    # print(\"Excluding...\", cstm_cits[cstm_cits > 100])\n",
    "    #print(\"N:\", cstm_cits.shape[0])\n",
    "    #print(\"M:\", np.mean(cstm_cits))\n",
    "    #print(\"S:\", np.std(cstm_cits))\n",
    "    # plt.hist(cstm_cits[cstm_cits <= 100], bins=40)\n",
    "    # plt.show()\n",
    "\n",
    "    rat = np.mean(bnch_cits[bnch_cits <= 100])/np.mean(cstm_cits[cstm_cits <= 100])\n",
    "    agg_rat = agg_rat + n*rat\n",
    "    N = N + n\n",
    "    #print()\n",
    "    #print(\"Ratio:\", rat)\n",
    "\n",
    "    strata_bnch_chars = strata_bnch_chars + [[bnch_cits.shape[0], np.mean(bnch_cits), np.std(bnch_cits)]]\n",
    "    strata_cstm_chars = strata_cstm_chars + [[cstm_cits.shape[0], np.mean(cstm_cits), np.std(cstm_cits)]]\n",
    "\n",
    "    #print(\"\\n\")\n",
    "    #print(\"OPEN ACCESS AND NO CODE RELEASE\")\n",
    "\n",
    "    bnch_citations = []\n",
    "    cstm_citations = []\n",
    "    n = 0\n",
    "    for d in [d for d in fata if open_access(d) and not released_code(d)]:\n",
    "        if used_any_benchmark(d) or used_custom_re(d):\n",
    "            try:\n",
    "                bnch_citations = bnch_citations + [int(d[\"citations\"])/(2019 - int(d[\"year\"]))]\n",
    "            except ValueError:\n",
    "                print(d[\"ind\"], \"needs reviewing\")\n",
    "            n = n + 1\n",
    "        elif used_custom_nore(d):\n",
    "            try:\n",
    "                cstm_citations = cstm_citations + [int(d[\"citations\"])/(2019 - int(d[\"year\"]))]\n",
    "            except ValueError:\n",
    "                print(d[\"ind\"], \"needs reviewing\")\n",
    "            n = n + 1\n",
    "\n",
    "\n",
    "    #print(\"Public\")\n",
    "    # First benchmark\n",
    "    bnch_cits = np.array(bnch_citations)\n",
    "    # print(\"Excluding...\", bnch_cits[bnch_cits > 100])\n",
    "    #print(\"N:\", bnch_cits.shape[0])\n",
    "    #print(\"M:\", np.mean(bnch_cits))\n",
    "    #print(\"S:\", np.std(bnch_cits))\n",
    "    # plt.hist(bnch_cits[bnch_cits <= 100], bins=40)\n",
    "    # plt.show()\n",
    "\n",
    "    #print()\n",
    "    #print(\"Private\")\n",
    "    # Then custom no release\n",
    "    cstm_cits = np.sort(np.array(cstm_citations))\n",
    "    # print(\"Excluding...\", cstm_cits[cstm_cits > 100])\n",
    "    #print(\"N:\", cstm_cits.shape[0])\n",
    "    #print(\"M:\", np.mean(cstm_cits))\n",
    "    #print(\"S:\", np.std(cstm_cits))\n",
    "    # plt.hist(cstm_cits[cstm_cits <= 100], bins=40)\n",
    "    # plt.show()\n",
    "\n",
    "    rat = np.mean(bnch_cits[bnch_cits <= 100])/np.mean(cstm_cits[cstm_cits <= 100])\n",
    "    agg_rat = agg_rat + n*rat\n",
    "    N = N + n\n",
    "    #print()\n",
    "    #print(\"Ratio:\", rat)\n",
    "\n",
    "    strata_bnch_chars = strata_bnch_chars + [[bnch_cits.shape[0], np.mean(bnch_cits), np.std(bnch_cits)]]\n",
    "    strata_cstm_chars = strata_cstm_chars + [[cstm_cits.shape[0], np.mean(cstm_cits), np.std(cstm_cits)]]\n",
    "\n",
    "\n",
    "    #print(\"\\n\")\n",
    "    #print(\"NOT OPEN ACCESS AND CODE RELEASE\")\n",
    "\n",
    "    bnch_citations = []\n",
    "    cstm_citations = []\n",
    "    n = 0\n",
    "    for d in [d for d in fata if not open_access(d) and released_code(d)]:\n",
    "        if used_any_benchmark(d) or used_custom_re(d):\n",
    "            try:\n",
    "                bnch_citations = bnch_citations + [int(d[\"citations\"])/(2019 - int(d[\"year\"]))]\n",
    "            except ValueError:\n",
    "                print(d[\"ind\"], \"needs reviewing\")\n",
    "            n = n + 1\n",
    "        elif used_custom_nore(d):\n",
    "            try:\n",
    "                cstm_citations = cstm_citations + [int(d[\"citations\"])/(2019 - int(d[\"year\"]))]\n",
    "            except ValueError:\n",
    "                print(d[\"ind\"], \"needs reviewing\")\n",
    "            n = n + 1\n",
    "\n",
    "    #print(\"Public\")\n",
    "    # First benchmark\n",
    "    bnch_cits = np.array(bnch_citations)\n",
    "    # print(\"Excluding...\", bnch_cits[bnch_cits > 100])\n",
    "    #print(\"N:\", bnch_cits.shape[0])\n",
    "    #print(\"M:\", np.mean(bnch_cits))\n",
    "    #print(\"S:\", np.std(bnch_cits))\n",
    "    # plt.hist(bnch_cits[bnch_cits <= 100], bins=40)\n",
    "    # plt.show()\n",
    "\n",
    "    #print()\n",
    "    #print(\"Private\")\n",
    "    # Then custom no release\n",
    "    cstm_cits = np.sort(np.array(cstm_citations))\n",
    "    # print(\"Excluding...\", cstm_cits[cstm_cits > 100])\n",
    "    #print(\"N:\", cstm_cits.shape[0])\n",
    "    #print(\"M:\", np.mean(cstm_cits))\n",
    "    #print(\"S:\", np.std(cstm_cits))\n",
    "    # plt.hist(cstm_cits[cstm_cits <= 100], bins=40)\n",
    "    # plt.show()\n",
    "\n",
    "    rat = np.mean(bnch_cits[bnch_cits <= 100])/np.mean(cstm_cits[cstm_cits <= 100])\n",
    "    agg_rat = agg_rat + n*rat\n",
    "    N = N + n\n",
    "    #print()\n",
    "    #print(\"Ratio:\", rat)\n",
    "\n",
    "    strata_bnch_chars = strata_bnch_chars + [[bnch_cits.shape[0], np.mean(bnch_cits), np.std(bnch_cits)]]\n",
    "    strata_cstm_chars = strata_cstm_chars + [[cstm_cits.shape[0], np.mean(cstm_cits), np.std(cstm_cits)]]\n",
    "\n",
    "\n",
    "    #print(\"\\n\")\n",
    "    #print(\"NOT OPEN ACCESS AND NO CODE RELEASE\")\n",
    "\n",
    "    bnch_citations = []\n",
    "    cstm_citations = []\n",
    "    n = 0\n",
    "    for d in [d for d in fata if not open_access(d) and not released_code(d)]:\n",
    "        if used_any_benchmark(d) or used_custom_re(d):\n",
    "            try:\n",
    "                bnch_citations = bnch_citations + [int(d[\"citations\"])/(2019 - int(d[\"year\"]))]\n",
    "            except ValueError:\n",
    "                print(d[\"ind\"], \"needs reviewing\")\n",
    "            n = n + 1\n",
    "        elif used_custom_nore(d):\n",
    "            try:\n",
    "                cstm_citations = cstm_citations + [int(d[\"citations\"])/(2019 - int(d[\"year\"]))]\n",
    "            except ValueError:\n",
    "                print(d[\"ind\"], \"needs reviewing\")\n",
    "            n = n + 1\n",
    "\n",
    "    #print(\"Public\")\n",
    "    # First benchmark\n",
    "    bnch_cits = np.array(bnch_citations)\n",
    "    # print(\"Excluding...\", bnch_cits[bnch_cits > 100])\n",
    "    #print(\"N:\", bnch_cits.shape[0])\n",
    "    #print(\"M:\", np.mean(bnch_cits))\n",
    "    #print(\"S:\", np.std(bnch_cits))\n",
    "    # plt.hist(bnch_cits[bnch_cits <= 100], bins=40)\n",
    "    # plt.show()\n",
    "\n",
    "    #print()\n",
    "    #print(\"Private\")\n",
    "    # Then custom no release\n",
    "    cstm_cits = np.sort(np.array(cstm_citations))\n",
    "    # print(\"Excluding...\", cstm_cits[cstm_cits > 100])\n",
    "    #print(\"N:\", cstm_cits.shape[0])\n",
    "    #print(\"M:\", np.mean(cstm_cits))\n",
    "    #print(\"S:\", np.std(cstm_cits))\n",
    "    # plt.hist(cstm_cits[cstm_cits <= 100], bins=40)\n",
    "    # plt.show()\n",
    "\n",
    "    rat = np.mean(bnch_cits[bnch_cits <= 100])/np.mean(cstm_cits[cstm_cits <= 100])\n",
    "    agg_rat = agg_rat + n*rat\n",
    "    N = N + n\n",
    "    #print()\n",
    "    #print(\"Ratio:\", rat)\n",
    "\n",
    "    strata_bnch_chars = strata_bnch_chars + [[bnch_cits.shape[0], np.mean(bnch_cits), np.std(bnch_cits)]]\n",
    "    strata_cstm_chars = strata_cstm_chars + [[cstm_cits.shape[0], np.mean(cstm_cits), np.std(cstm_cits)]]\n",
    "\n",
    "    #print(\"\\n\")\n",
    "    #print(\n",
    "    #    \"RATIO AFTER CONTROLLING:\", \n",
    "    #    agg_rat/N\n",
    "    #)\n",
    "    return agg_rat/N"
   ]
  },
  {
   "cell_type": "code",
   "execution_count": 16,
   "metadata": {},
   "outputs": [
    {
     "name": "stderr",
     "output_type": "stream",
     "text": [
      "/home/helle246/envs/kcc8/lib/python3.6/site-packages/numpy/core/fromnumeric.py:3118: RuntimeWarning: Mean of empty slice.\n",
      "  out=out, **kwargs)\n",
      "/home/helle246/envs/kcc8/lib/python3.6/site-packages/numpy/core/_methods.py:85: RuntimeWarning: invalid value encountered in double_scalars\n",
      "  ret = ret.dtype.type(ret / rcount)\n",
      "/home/helle246/envs/kcc8/lib/python3.6/site-packages/numpy/core/_methods.py:140: RuntimeWarning: Degrees of freedom <= 0 for slice\n",
      "  keepdims=keepdims)\n",
      "/home/helle246/envs/kcc8/lib/python3.6/site-packages/numpy/core/_methods.py:110: RuntimeWarning: invalid value encountered in true_divide\n",
      "  arrmean, rcount, out=arrmean, casting='unsafe', subok=False)\n",
      "/home/helle246/envs/kcc8/lib/python3.6/site-packages/numpy/core/_methods.py:132: RuntimeWarning: invalid value encountered in double_scalars\n",
      "  ret = ret.dtype.type(ret / rcount)\n"
     ]
    },
    {
     "name": "stdout",
     "output_type": "stream",
     "text": [
      "31539\n"
     ]
    },
    {
     "data": {
      "image/png": "[encoded data removed]",
      "text/plain": [
       "<Figure size 432x288 with 1 Axes>"
      ]
     },
     "metadata": {
      "needs_background": "light"
     },
     "output_type": "display_data"
    },
    {
     "name": "stdout",
     "output_type": "stream",
     "text": [
      "1.2808365576334828 2.10153068032326\n"
     ]
    }
   ],
   "source": [
    "rats = []\n",
    "for i in range(50000):\n",
    "    inds = np.random.randint(0, len(data), 500)\n",
    "    fat = [data[i] for i in inds]\n",
    "    rats = rats + [get_stratafied_ratio(fat)]\n",
    "\n",
    "rats = [r for r in rats if not np.isnan(r)]\n",
    "print(len(rats))\n",
    "plt.hist(rats)\n",
    "plt.show()\n",
    "rats = np.array(rats)\n",
    "print(np.percentile(rats, 2.5), np.percentile(rats, 97.5))"
   ]
  },
  {
   "cell_type": "code",
   "execution_count": 17,
   "metadata": {},
   "outputs": [
    {
     "data": {
      "image/png": "[encoded data removed]",
      "text/plain": [
       "<Figure size 432x288 with 1 Axes>"
      ]
     },
     "metadata": {
      "needs_background": "light"
     },
     "output_type": "display_data"
    }
   ],
   "source": [
    "plt.hist(rats, bins=100)\n",
    "plt.show()"
   ]
  },
  {
   "cell_type": "markdown",
   "metadata": {},
   "source": [
    "## Now let's look at the cases where authors failed to cite. How many are their fault?"
   ]
  },
  {
   "cell_type": "code",
   "execution_count": 18,
   "metadata": {},
   "outputs": [
    {
     "name": "stdout",
     "output_type": "stream",
     "text": [
      "217 45 11\n"
     ]
    }
   ],
   "source": [
    "inds_false_alarm = [\n",
    "    5, # ADNI is an author on one of the papers... odd\n",
    "    86, # Not obvious at first but they got it\n",
    "    87, # I goofed on this one. CGAN -> TCGA\n",
    "    138, # This one was cited properly, but not next to the data intro\n",
    "    202, # ADNI really doesn't make this easy...\n",
    "    236, # Paper wasn't listed by HCP but it does seem to check out otherwise...\n",
    "    251, # Again, weird place for the citation but it checks out,\n",
    "    252, # another not on the approved list, but it checks out\n",
    "    261, # another unintuitive placement\n",
    "    285, # Oof, that one was pretty clear\n",
    "    286, # Oof, this one was pretty clear too. They had a whole table with citations. Also, hi Veronika!\n",
    "    401, # An older ADNI review, and not explicitly listed, but I'll take it\n",
    "    490, # BrainWeb is a phantom company, not a public benchmark\n",
    "    494, # These guys did EVERYTHING right\n",
    "    505, # This was REALLY down there and hard to find\n",
    "    562 # Same as above\n",
    "]\n",
    "inds_not_their_fault = [\n",
    "    44, # MyConnectome project has no way to cite it\n",
    "    151, # No clear way to cite MIVIA HEp-2\n",
    "    156, # Same as above\n",
    "    309, # Challenge manuscript came out two months too late\n",
    "    355, # No clear way to cite MIVIA HEp-2\n",
    "    362, # Unclear if what they give is a reference? Doesn't look like an indexed object, whatever it is\n",
    "    391, # SpineWeb didn't have anything to cite at that time\n",
    "    408, # Kaggle Diabetic Retinopathy Detection has no citation instructions\n",
    "    516, # Stanford voldata doesn't give instructions to cite this dataset\n",
    "    522, # Challenge manuscript wasn't out yet\n",
    "    550 # Challenge manuscript wasn't out yet\n",
    "]\n",
    "lol = [\n",
    "    45, # The last author is on one of the papers they should have cited!!!!\n",
    "    49, # The challenge paper was out Oct. 2017, the MICCAI 2018 deadline was Mar. 2018. Sux\n",
    "    52, # Flagrant footnote when there's a super obvious paper\n",
    "    54, # Same as 49\n",
    "    128, # Challenge paper\n",
    "    295, # Did they mean ADNI? I'm so confused\n",
    "    432 # Now that challenge paper was hard to find, but it exists, and should have been cited\n",
    "]\n",
    "\n",
    "\n",
    "ub = 0\n",
    "ubnc = 0\n",
    "ubncnf = 0\n",
    "for d in data:\n",
    "    if used_any_benchmark(d):\n",
    "        ub = ub + 1\n",
    "        if d[\"didcite\"] != \"all\" and d[\"didcite\"] != \"\" and int(d[\"ind\"]) not in inds_false_alarm:\n",
    "            ubnc = ubnc + 1\n",
    "            if int(d[\"ind\"]) in inds_not_their_fault:\n",
    "                ubncnf = ubncnf + 1\n",
    "            #print(json.dumps(d, indent=2))\n",
    "\n",
    "print(ub, ubnc, ubncnf)"
   ]
  },
  {
   "cell_type": "code",
   "execution_count": null,
   "metadata": {},
   "outputs": [],
   "source": []
  }
 ],
 "metadata": {
  "kernelspec": {
   "display_name": "Python 3",
   "language": "python",
   "name": "python3"
  },
  "language_info": {
   "codemirror_mode": {
    "name": "ipython",
    "version": 3
   },
   "file_extension": ".py",
   "mimetype": "text/x-python",
   "name": "python",
   "nbconvert_exporter": "python",
   "pygments_lexer": "ipython3",
   "version": "3.6.7"
  }
 },
 "nbformat": 4,
 "nbformat_minor": 2
}
