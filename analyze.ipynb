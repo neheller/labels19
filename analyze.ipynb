{
 "cells": [
  {
   "cell_type": "code",
   "execution_count": 35,
   "metadata": {},
   "outputs": [],
   "source": [
    "import json\n",
    "\n",
    "import matplotlib.pyplot as plt\n",
    "import numpy as np"
   ]
  },
  {
   "cell_type": "code",
   "execution_count": 36,
   "metadata": {},
   "outputs": [],
   "source": [
    "with open(\"aggregated.json\") as f:\n",
    "    data = json.loads(f.read())"
   ]
  },
  {
   "cell_type": "markdown",
   "metadata": {},
   "source": [
    "## How often are benchmarks not cited?"
   ]
  },
  {
   "cell_type": "code",
   "execution_count": 37,
   "metadata": {},
   "outputs": [
    {
     "name": "stdout",
     "output_type": "stream",
     "text": [
      "108 needs filling\n",
      "132 papers found that used a benchmark\n",
      "35 of those missed or improperly cited at least one of those benchmarks\n",
      "That's 26.5 per cent!\n"
     ]
    }
   ],
   "source": [
    "def used_any_benchmark(d):\n",
    "    not_custom = [s for s in d[\"whichdata\"] if s != \"custom\" and s != \"custom simulated\"]\n",
    "    return len(not_custom) > 0\n",
    "\n",
    "ub = 0\n",
    "ubnc = 0\n",
    "for d in data:\n",
    "    if used_any_benchmark(d):\n",
    "        ub = ub + 1\n",
    "        if d[\"didcite\"] != \"all\" and d[\"didcite\"] != \"\":\n",
    "            ubnc = ubnc + 1\n",
    "        if d[\"didcite\"] == \"\":\n",
    "            print(d[\"ind\"], \"needs filling\")\n",
    "            \n",
    "print(ub, \"papers found that used a benchmark\")\n",
    "print(ubnc, \"of those missed or improperly cited at least one of those benchmarks\")\n",
    "print(\"That's {:0.1f} per cent!\".format(100*ubnc/ub))"
   ]
  },
  {
   "cell_type": "markdown",
   "metadata": {},
   "source": [
    "## How often is custom data used?"
   ]
  },
  {
   "cell_type": "code",
   "execution_count": 38,
   "metadata": {},
   "outputs": [
    {
     "name": "stdout",
     "output_type": "stream",
     "text": [
      "2 needs filling\n",
      "73 needs filling\n",
      "102 needs filling\n",
      "167 needs filling\n",
      "321 needs filling\n",
      "362 needs filling\n",
      "170 papers found that used custom data\n",
      "6 of those released or promised to release their data\n",
      "That's 3.5 per cent!\n"
     ]
    }
   ],
   "source": [
    "def used_custom_data(d):\n",
    "    not_custom = [s for s in d[\"whichdata\"] if s == \"custom\" or s == \"custom simulated\"]\n",
    "    return len(not_custom) > 0\n",
    "\n",
    "du = 0\n",
    "dure = 0\n",
    "for d in data:\n",
    "    if used_custom_data(d):\n",
    "        du = du + 1\n",
    "        if d[\"didpublish\"] != \"no\" and d[\"didpublish\"] != \"\":\n",
    "            dure = dure + 1\n",
    "        if d[\"didpublish\"] == \"\":\n",
    "            print(d[\"ind\"], \"needs filling\")\n",
    "            \n",
    "print(du, \"papers found that used custom data\")\n",
    "print(dure, \"of those released or promised to release their data\")\n",
    "print(\"That's {:0.1f} per cent!\".format(100*dure/du))"
   ]
  },
  {
   "cell_type": "markdown",
   "metadata": {},
   "source": [
    "## How often are MICCAI papers cited?"
   ]
  },
  {
   "cell_type": "code",
   "execution_count": 46,
   "metadata": {},
   "outputs": [
    {
     "name": "stdout",
     "output_type": "stream",
     "text": [
      "65 needs reviewing\n",
      "87 needs reviewing\n",
      "166 needs reviewing\n",
      "[243.66666667]\n"
     ]
    },
    {
     "data": {
      "image/png": "[encoded data removed]",
      "text/plain": [
       "<Figure size 432x288 with 1 Axes>"
      ]
     },
     "metadata": {},
     "output_type": "display_data"
    },
    {
     "name": "stdout",
     "output_type": "stream",
     "text": [
      "5.364166666666667\n"
     ]
    }
   ],
   "source": [
    "citations = []\n",
    "for d in data:\n",
    "    if used_custom_data(d) or used_any_benchmark(d):\n",
    "        try:\n",
    "            citations = citations + [int(d[\"citations\"])/(2019 - int(d[\"year\"]))]\n",
    "        except ValueError:\n",
    "            print(d[\"ind\"], \"needs reviewing\")\n",
    "            \n",
    "cits = np.sort(np.array(citations))\n",
    "print(cits[cits > 100])\n",
    "plt.hist(cits[cits <= 100], bins=40)\n",
    "plt.show()\n",
    "print(np.mean(cits))"
   ]
  },
  {
   "cell_type": "markdown",
   "metadata": {},
   "source": [
    "## What if we partition by benchmark vs custom?"
   ]
  },
  {
   "cell_type": "code",
   "execution_count": 50,
   "metadata": {},
   "outputs": [
    {
     "name": "stdout",
     "output_type": "stream",
     "text": [
      "65 needs reviewing\n",
      "87 needs reviewing\n",
      "166 needs reviewing\n",
      "Excluding... []\n"
     ]
    },
    {
     "data": {
      "image/png": "[encoded data removed]",
      "text/plain": [
       "<Figure size 432x288 with 1 Axes>"
      ]
     },
     "metadata": {},
     "output_type": "display_data"
    },
    {
     "name": "stdout",
     "output_type": "stream",
     "text": [
      "6.010050890585242\n",
      "Excluding... [243.66666667]\n"
     ]
    },
    {
     "data": {
      "image/png": "[encoded data removed]",
      "text/plain": [
       "<Figure size 432x288 with 1 Axes>"
      ]
     },
     "metadata": {},
     "output_type": "display_data"
    },
    {
     "name": "stdout",
     "output_type": "stream",
     "text": [
      "3.1823198198198197\n"
     ]
    }
   ],
   "source": [
    "bnch_citations = []\n",
    "cstm_citations = []\n",
    "for d in data:\n",
    "    if used_any_benchmark(d):\n",
    "        try:\n",
    "            bnch_citations = bnch_citations + [int(d[\"citations\"])/(2019 - int(d[\"year\"]))]\n",
    "        except ValueError:\n",
    "            print(d[\"ind\"], \"needs reviewing\")\n",
    "    elif used_custom_data(d):\n",
    "        try:\n",
    "            cstm_citations = cstm_citations + [int(d[\"citations\"])/(2019 - int(d[\"year\"]))]\n",
    "        except ValueError:\n",
    "            print(d[\"ind\"], \"needs reviewing\")\n",
    "            \n",
    "# First benchmark\n",
    "bnch_cits = np.sort(np.array(bnch_citations))\n",
    "print(\"Excluding...\", bnch_cits[bnch_cits > 100])\n",
    "plt.hist(bnch_cits[bnch_cits <= 100], bins=40)\n",
    "plt.show()\n",
    "print(np.mean(bnch_cits[bnch_cits <= 100]))\n",
    "\n",
    "# Then custom\n",
    "cstm_cits = np.sort(np.array(cstm_citations))\n",
    "print(\"Excluding...\", cstm_cits[cstm_cits > 100])\n",
    "plt.hist(cstm_cits[cstm_cits <= 100], bins=40)\n",
    "plt.show()\n",
    "print(np.mean(cstm_cits[cstm_cits <= 100]))"
   ]
  },
  {
   "cell_type": "code",
   "execution_count": null,
   "metadata": {},
   "outputs": [],
   "source": []
  }
 ],
 "metadata": {
  "kernelspec": {
   "display_name": "Python 3",
   "language": "python",
   "name": "python3"
  },
  "language_info": {
   "codemirror_mode": {
    "name": "ipython",
    "version": 3
   },
   "file_extension": ".py",
   "mimetype": "text/x-python",
   "name": "python",
   "nbconvert_exporter": "python",
   "pygments_lexer": "ipython3",
   "version": "3.6.8"
  }
 },
 "nbformat": 4,
 "nbformat_minor": 2
}
