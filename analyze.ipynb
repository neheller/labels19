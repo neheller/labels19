{
 "cells": [
  {
   "cell_type": "code",
   "execution_count": 1,
   "metadata": {},
   "outputs": [],
   "source": [
    "import json\n",
    "\n",
    "import matplotlib.pyplot as plt\n",
    "import numpy as np"
   ]
  },
  {
   "cell_type": "code",
   "execution_count": 2,
   "metadata": {},
   "outputs": [],
   "source": [
    "with open(\"aggregated.json\") as f:\n",
    "    data = json.loads(f.read())"
   ]
  },
  {
   "cell_type": "markdown",
   "metadata": {},
   "source": [
    "## How often are benchmarks not cited?"
   ]
  },
  {
   "cell_type": "code",
   "execution_count": 3,
   "metadata": {},
   "outputs": [
    {
     "name": "stdout",
     "output_type": "stream",
     "text": [
      "108 needs filling\n",
      "459 needs filling\n",
      "224 papers found that used a benchmark\n",
      "63 of those missed or improperly cited at least one of those benchmarks\n",
      "That's 28.1 per cent!\n"
     ]
    }
   ],
   "source": [
    "def used_any_benchmark(d):\n",
    "    not_custom = [s for s in d[\"whichdata\"] if s != \"custom\" and s != \"custom simulated\"]\n",
    "    return len(not_custom) > 0\n",
    "\n",
    "ub = 0\n",
    "ubnc = 0\n",
    "for d in data:\n",
    "    if used_any_benchmark(d):\n",
    "        ub = ub + 1\n",
    "        if d[\"didcite\"] != \"all\" and d[\"didcite\"] != \"\":\n",
    "            ubnc = ubnc + 1\n",
    "        if d[\"didcite\"] == \"\":\n",
    "            print(d[\"ind\"], \"needs filling\")\n",
    "            \n",
    "print(ub, \"papers found that used a benchmark\")\n",
    "print(ubnc, \"of those missed or improperly cited at least one of those benchmarks\")\n",
    "print(\"That's {:0.1f} per cent!\".format(100*ubnc/ub))"
   ]
  },
  {
   "cell_type": "markdown",
   "metadata": {},
   "source": [
    "## How often is custom data used?"
   ]
  },
  {
   "cell_type": "code",
   "execution_count": 4,
   "metadata": {},
   "outputs": [
    {
     "name": "stdout",
     "output_type": "stream",
     "text": [
      "2 needs filling\n",
      "73 needs filling\n",
      "102 needs filling\n",
      "167 needs filling\n",
      "321 needs filling\n",
      "362 needs filling\n",
      "418 needs filling\n",
      "437 needs filling\n",
      "546 needs filling\n",
      "552 needs filling\n",
      "313 papers found that used custom data\n",
      "15 of those released or promised to release their data\n",
      "That's 4.8 per cent!\n"
     ]
    }
   ],
   "source": [
    "def used_custom_data(d):\n",
    "    not_custom = [s for s in d[\"whichdata\"] if s == \"custom\" or s == \"custom simulated\"]\n",
    "    return len(not_custom) > 0\n",
    "\n",
    "du = 0\n",
    "dure = 0\n",
    "for d in data:\n",
    "    if used_custom_data(d):\n",
    "        du = du + 1\n",
    "        if d[\"didpublish\"] != \"no\" and d[\"didpublish\"] != \"\":\n",
    "            dure = dure + 1\n",
    "        if d[\"didpublish\"] == \"\":\n",
    "            print(d[\"ind\"], \"needs filling\")\n",
    "            \n",
    "print(du, \"papers found that used custom data\")\n",
    "print(dure, \"of those released or promised to release their data\")\n",
    "print(\"That's {:0.1f} per cent!\".format(100*dure/du))"
   ]
  },
  {
   "cell_type": "code",
   "execution_count": 5,
   "metadata": {},
   "outputs": [
    {
     "name": "stdout",
     "output_type": "stream",
     "text": [
      "2 needs filling\n",
      "73 needs filling\n",
      "102 needs filling\n",
      "167 needs filling\n",
      "321 needs filling\n",
      "362 needs filling\n",
      "418 needs filling\n",
      "437 needs filling\n",
      "546 needs filling\n",
      "552 needs filling\n",
      "28 papers found that used custom and benchmark data\n",
      "3 of those released or promised to release their data\n",
      "That's 10.7 per cent!\n"
     ]
    }
   ],
   "source": [
    "du = 0\n",
    "dure = 0\n",
    "for d in data:\n",
    "    if used_custom_data(d) and used_any_benchmark(d):\n",
    "        du = du + 1\n",
    "        if d[\"didpublish\"] != \"no\" and d[\"didpublish\"] != \"\":\n",
    "            dure = dure + 1\n",
    "        if d[\"didpublish\"] == \"\":\n",
    "            print(d[\"ind\"], \"needs filling\")\n",
    "            \n",
    "print(du, \"papers found that used custom and benchmark data\")\n",
    "print(dure, \"of those released or promised to release their data\")\n",
    "print(\"That's {:0.1f} per cent!\".format(100*dure/du))"
   ]
  },
  {
   "cell_type": "markdown",
   "metadata": {},
   "source": [
    "## How often are MICCAI papers cited?"
   ]
  },
  {
   "cell_type": "code",
   "execution_count": 6,
   "metadata": {},
   "outputs": [
    {
     "name": "stdout",
     "output_type": "stream",
     "text": [
      "65 needs reviewing\n",
      "87 needs reviewing\n",
      "166 needs reviewing\n",
      "[243.66666667]\n"
     ]
    },
    {
     "data": {
      "image/png": "[encoded data removed]",
      "text/plain": [
       "<Figure size 432x288 with 1 Axes>"
      ]
     },
     "metadata": {},
     "output_type": "display_data"
    },
    {
     "name": "stdout",
     "output_type": "stream",
     "text": [
      "4.508234519104085\n"
     ]
    }
   ],
   "source": [
    "citations = []\n",
    "for d in data:\n",
    "    if used_custom_data(d) or used_any_benchmark(d):\n",
    "        try:\n",
    "            citations = citations + [int(d[\"citations\"])/(2019 - int(d[\"year\"]))]\n",
    "        except ValueError:\n",
    "            print(d[\"ind\"], \"needs reviewing\")\n",
    "            \n",
    "cits = np.sort(np.array(citations))\n",
    "print(cits[cits > 100])\n",
    "plt.hist(cits[cits <= 100], bins=40)\n",
    "plt.show()\n",
    "print(np.mean(cits))"
   ]
  },
  {
   "cell_type": "markdown",
   "metadata": {},
   "source": [
    "## What if we partition by benchmark vs custom?"
   ]
  },
  {
   "cell_type": "code",
   "execution_count": 7,
   "metadata": {},
   "outputs": [
    {
     "name": "stdout",
     "output_type": "stream",
     "text": [
      "65 needs reviewing\n",
      "87 needs reviewing\n",
      "166 needs reviewing\n",
      "Excluding... []\n",
      "Total: 235\n",
      "5.537163120567376\n"
     ]
    },
    {
     "data": {
      "image/png": "[encoded data removed]",
      "text/plain": [
       "<Figure size 432x288 with 1 Axes>"
      ]
     },
     "metadata": {},
     "output_type": "display_data"
    },
    {
     "name": "stdout",
     "output_type": "stream",
     "text": [
      "\n",
      "\n",
      "Excluding... [243.66666667]\n",
      "Total: 271\n",
      "2.730873308733087\n"
     ]
    },
    {
     "data": {
      "image/png": "[encoded data removed]",
      "text/plain": [
       "<Figure size 432x288 with 1 Axes>"
      ]
     },
     "metadata": {},
     "output_type": "display_data"
    },
    {
     "name": "stdout",
     "output_type": "stream",
     "text": [
      "\n",
      "\n",
      "Excluding... []\n",
      "Total: 12\n",
      "9.097222222222223\n"
     ]
    },
    {
     "data": {
      "image/png": "[encoded data removed]",
      "text/plain": [
       "<Figure size 432x288 with 1 Axes>"
      ]
     },
     "metadata": {},
     "output_type": "display_data"
    }
   ],
   "source": [
    "def used_custom_nore(d):\n",
    "    custom = [s for s in d[\"whichdata\"] if s == \"custom\" or s == \"custom simulated\"]\n",
    "    return len(custom) == len(d[\"whichdata\"]) and d[\"didpublish\"] == \"no\" \n",
    "\n",
    "def used_custom_re(d):\n",
    "    custom = [s for s in d[\"whichdata\"] if s == \"custom\" or s == \"custom simulated\"]\n",
    "    return len(custom) == len(d[\"whichdata\"]) and d[\"didpublish\"] != \"no\" and d[\"didpublish\"] != \"\"\n",
    "\n",
    "bnch_citations = []\n",
    "cstm_citations = []\n",
    "csre_citations = []\n",
    "for d in data:\n",
    "    if used_any_benchmark(d) or used_custom_re(d):\n",
    "        try:\n",
    "            bnch_citations = bnch_citations + [int(d[\"citations\"])/(2019 - int(d[\"year\"]))]\n",
    "        except ValueError:\n",
    "            print(d[\"ind\"], \"needs reviewing\")\n",
    "    elif used_custom_nore(d):\n",
    "        try:\n",
    "            cstm_citations = cstm_citations + [int(d[\"citations\"])/(2019 - int(d[\"year\"]))]\n",
    "        except ValueError:\n",
    "            print(d[\"ind\"], \"needs reviewing\")\n",
    "    if used_custom_re(d):\n",
    "        try:\n",
    "            csre_citations = csre_citations + [int(d[\"citations\"])/(2019 - int(d[\"year\"]))]\n",
    "        except ValueError:\n",
    "            print(d[\"ind\"], \"needs reviewing\")\n",
    "\n",
    "            \n",
    "# First benchmark\n",
    "bnch_cits = np.sort(np.array(bnch_citations))\n",
    "print(\"Excluding...\", bnch_cits[bnch_cits > 100])\n",
    "print(\"Total:\", bnch_cits[bnch_cits <= 100].shape[0])\n",
    "print(np.mean(bnch_cits[bnch_cits <= 100]))\n",
    "plt.hist(bnch_cits[bnch_cits <= 100], bins=40)\n",
    "plt.show()\n",
    "\n",
    "print(\"\\n\")\n",
    "# Then custom no release\n",
    "cstm_cits = np.sort(np.array(cstm_citations))\n",
    "print(\"Excluding...\", cstm_cits[cstm_cits > 100])\n",
    "print(\"Total:\", cstm_cits[cstm_cits <= 100].shape[0])\n",
    "print(np.mean(cstm_cits[cstm_cits <= 100]))\n",
    "plt.hist(cstm_cits[cstm_cits <= 100], bins=40)\n",
    "plt.show()\n",
    "\n",
    "print(\"\\n\")\n",
    "# Then custom and release\n",
    "csre_cits = np.sort(np.array(csre_citations))\n",
    "print(\"Excluding...\", csre_cits[csre_cits > 100])\n",
    "print(\"Total:\", csre_cits[csre_cits <= 100].shape[0])\n",
    "print(np.mean(csre_cits[csre_cits <= 100]))\n",
    "plt.hist(csre_cits[csre_cits <= 100], bins=40)\n",
    "plt.show()\n"
   ]
  },
  {
   "cell_type": "markdown",
   "metadata": {},
   "source": [
    "## What if we partition by releasing code or no?"
   ]
  },
  {
   "cell_type": "code",
   "execution_count": 8,
   "metadata": {},
   "outputs": [
    {
     "name": "stdout",
     "output_type": "stream",
     "text": [
      "65 needs reviewing\n",
      "87 needs reviewing\n",
      "166 needs reviewing\n",
      "Excluding... [243.66666667]\n",
      "Total: 38\n",
      "7.415789473684209\n"
     ]
    },
    {
     "data": {
      "image/png": "[encoded data removed]",
      "text/plain": [
       "<Figure size 432x288 with 1 Axes>"
      ]
     },
     "metadata": {},
     "output_type": "display_data"
    },
    {
     "name": "stdout",
     "output_type": "stream",
     "text": [
      "\n",
      "\n",
      "Excluding... []\n",
      "Total: 467\n",
      "3.7595289079229124\n"
     ]
    },
    {
     "data": {
      "image/png": "[encoded data removed]",
      "text/plain": [
       "<Figure size 432x288 with 1 Axes>"
      ]
     },
     "metadata": {},
     "output_type": "display_data"
    }
   ],
   "source": [
    "def released_code(d):\n",
    "    return d[\"code\"] == \"on\"\n",
    "\n",
    "bnch_citations = []\n",
    "cstm_citations = []\n",
    "for d in data:\n",
    "    if not used_custom_data(d) and not used_any_benchmark(d):\n",
    "        continue\n",
    "    if released_code(d):\n",
    "        try:\n",
    "            bnch_citations = bnch_citations + [int(d[\"citations\"])/(2019 - int(d[\"year\"]))]\n",
    "        except ValueError:\n",
    "            print(d[\"ind\"], \"needs reviewing\")\n",
    "    else:\n",
    "        try:\n",
    "            cstm_citations = cstm_citations + [int(d[\"citations\"])/(2019 - int(d[\"year\"]))]\n",
    "        except ValueError:\n",
    "            print(d[\"ind\"], \"needs reviewing\")\n",
    "\n",
    "            \n",
    "# First benchmark\n",
    "bnch_cits = np.sort(np.array(bnch_citations))\n",
    "print(\"Excluding...\", bnch_cits[bnch_cits > 100])\n",
    "print(\"Total:\", bnch_cits[bnch_cits <= 100].shape[0])\n",
    "print(np.mean(bnch_cits[bnch_cits <= 100]))\n",
    "plt.hist(bnch_cits[bnch_cits <= 100], bins=40)\n",
    "plt.show()\n",
    "\n",
    "print(\"\\n\")\n",
    "# Then custom no release\n",
    "cstm_cits = np.sort(np.array(cstm_citations))\n",
    "print(\"Excluding...\", cstm_cits[cstm_cits > 100])\n",
    "print(\"Total:\", cstm_cits[cstm_cits <= 100].shape[0])\n",
    "print(np.mean(cstm_cits[cstm_cits <= 100]))\n",
    "plt.hist(cstm_cits[cstm_cits <= 100], bins=40)\n",
    "plt.show()\n"
   ]
  },
  {
   "cell_type": "markdown",
   "metadata": {},
   "source": [
    "## What if we partition by open access vs no?"
   ]
  },
  {
   "cell_type": "code",
   "execution_count": 9,
   "metadata": {},
   "outputs": [
    {
     "name": "stdout",
     "output_type": "stream",
     "text": [
      "65 needs reviewing\n",
      "87 needs reviewing\n",
      "166 needs reviewing\n",
      "Excluding... [243.66666667]\n",
      "Total: 435\n",
      "4.3053639846743295\n"
     ]
    },
    {
     "data": {
      "image/png": "[encoded data removed]",
      "text/plain": [
       "<Figure size 432x288 with 1 Axes>"
      ]
     },
     "metadata": {},
     "output_type": "display_data"
    },
    {
     "name": "stdout",
     "output_type": "stream",
     "text": [
      "\n",
      "\n",
      "Excluding... []\n",
      "Total: 70\n",
      "2.3523809523809525\n"
     ]
    },
    {
     "data": {
      "image/png": "[encoded data removed]",
      "text/plain": [
       "<Figure size 432x288 with 1 Axes>"
      ]
     },
     "metadata": {},
     "output_type": "display_data"
    }
   ],
   "source": [
    "def open_access(d):\n",
    "    return \"on\" in d[\"preprint\"] + d[\"personal\"]\n",
    "\n",
    "bnch_citations = []\n",
    "cstm_citations = []\n",
    "for d in data:\n",
    "    if not used_custom_data(d) and not used_any_benchmark(d):\n",
    "        continue\n",
    "    if open_access(d):\n",
    "        try:\n",
    "            bnch_citations = bnch_citations + [int(d[\"citations\"])/(2019 - int(d[\"year\"]))]\n",
    "        except ValueError:\n",
    "            print(d[\"ind\"], \"needs reviewing\")\n",
    "    else:\n",
    "        try:\n",
    "            cstm_citations = cstm_citations + [int(d[\"citations\"])/(2019 - int(d[\"year\"]))]\n",
    "        except ValueError:\n",
    "            print(d[\"ind\"], \"needs reviewing\")\n",
    "\n",
    "            \n",
    "# First benchmark\n",
    "bnch_cits = np.sort(np.array(bnch_citations))\n",
    "print(\"Excluding...\", bnch_cits[bnch_cits > 100])\n",
    "print(\"Total:\", bnch_cits[bnch_cits <= 100].shape[0])\n",
    "print(np.mean(bnch_cits[bnch_cits <= 100]))\n",
    "plt.hist(bnch_cits[bnch_cits <= 100], bins=40)\n",
    "plt.show()\n",
    "\n",
    "print(\"\\n\")\n",
    "# Then custom no release\n",
    "cstm_cits = np.sort(np.array(cstm_citations))\n",
    "print(\"Excluding...\", cstm_cits[cstm_cits > 100])\n",
    "print(\"Total:\", cstm_cits[cstm_cits <= 100].shape[0])\n",
    "print(np.mean(cstm_cits[cstm_cits <= 100]))\n",
    "plt.hist(cstm_cits[cstm_cits <= 100], bins=40)\n",
    "plt.show()\n"
   ]
  },
  {
   "cell_type": "markdown",
   "metadata": {},
   "source": [
    "## How's public benchmark use over time?"
   ]
  },
  {
   "cell_type": "code",
   "execution_count": 10,
   "metadata": {},
   "outputs": [
    {
     "data": {
      "image/png": "[encoded data removed]",
      "text/plain": [
       "<Figure size 432x288 with 1 Axes>"
      ]
     },
     "metadata": {},
     "output_type": "display_data"
    },
    {
     "name": "stdout",
     "output_type": "stream",
     "text": [
      "2014 0.35294117647058826 102\n",
      "2015 0.43434343434343436 99\n",
      "2016 0.5533980582524272 103\n",
      "2017 0.39805825242718446 103\n",
      "2018 0.5728155339805825 103\n"
     ]
    }
   ],
   "source": [
    "bnch_counts = [0 for _ in range(5)]\n",
    "cstm_counts = [0 for _ in range(5)]\n",
    "csre_counts = [0 for _ in range(5)]\n",
    "\n",
    "for d in data:\n",
    "    year = 4 - 2018 + int(d[\"year\"])\n",
    "    if used_any_benchmark(d):\n",
    "        try:\n",
    "            bnch_counts[year] = bnch_counts[year] + 1\n",
    "        except ValueError:\n",
    "            print(d[\"ind\"], \"needs reviewing\")\n",
    "    elif used_custom_nore(d):\n",
    "        try:\n",
    "            cstm_counts[year] = cstm_counts[year] + 1\n",
    "        except ValueError:\n",
    "            print(d[\"ind\"], \"needs reviewing\")\n",
    "    elif used_custom_re(d):\n",
    "        try:\n",
    "            csre_counts[year] = csre_counts[year] + 1\n",
    "        except ValueError:\n",
    "            print(d[\"ind\"], \"needs reviewing\")\n",
    "\n",
    "years = range(2014, 2019)\n",
    "plt.bar(years, cstm_counts, 0.9, color=(0.2, 0.4, 0.6, 1.0))\n",
    "plt.bar(years, csre_counts, 0.9, bottom=cstm_counts, color=(0.2, 0.4, 0.6, 0.8))\n",
    "plt.bar(years, bnch_counts, 0.9, bottom=np.array(cstm_counts) + np.array(csre_counts), color=(0.2, 0.4, 0.6, 0.6))\n",
    "plt.legend([\"Private\", \"Release\", \"Benchmark\"], loc=\"lower left\")\n",
    "plt.show()\n",
    "\n",
    "for i in range(5):\n",
    "    print(years[i], (bnch_counts[i]+csre_counts[i])/(bnch_counts[i]+cstm_counts[i]+csre_counts[i]), bnch_counts[i]+cstm_counts[i]+csre_counts[i])\n"
   ]
  },
  {
   "cell_type": "markdown",
   "metadata": {},
   "source": [
    "## How's code release over time?"
   ]
  },
  {
   "cell_type": "code",
   "execution_count": 11,
   "metadata": {},
   "outputs": [
    {
     "data": {
      "image/png": "[encoded data removed]",
      "text/plain": [
       "<Figure size 432x288 with 1 Axes>"
      ]
     },
     "metadata": {},
     "output_type": "display_data"
    },
    {
     "name": "stdout",
     "output_type": "stream",
     "text": [
      "2014 0.0594059405940594\n",
      "2015 0.06060606060606061\n",
      "2016 0.08737864077669903\n",
      "2017 0.06796116504854369\n",
      "2018 0.10679611650485436\n"
     ]
    }
   ],
   "source": [
    "bnch_counts = [0 for _ in range(5)]\n",
    "cstm_counts = [0 for _ in range(5)]\n",
    "\n",
    "for d in data:\n",
    "    year = 4 - 2018 + int(d[\"year\"])\n",
    "    if not used_custom_data(d) and not used_any_benchmark(d):\n",
    "        continue\n",
    "    if released_code(d):\n",
    "        try:\n",
    "            bnch_counts[year] = bnch_counts[year] + 1\n",
    "        except ValueError:\n",
    "            print(d[\"ind\"], \"needs reviewing\")\n",
    "    else:\n",
    "        try:\n",
    "            cstm_counts[year] = cstm_counts[year] + 1\n",
    "        except ValueError:\n",
    "            print(d[\"ind\"], \"needs reviewing\")\n",
    "\n",
    "years = range(2014, 2019)\n",
    "plt.bar(years, cstm_counts, 0.9, color=(0.2, 0.4, 0.6, 1.0))\n",
    "plt.bar(years, bnch_counts, 0.9, bottom=cstm_counts, color=(0.2, 0.4, 0.6, 0.6))\n",
    "plt.legend([\"Code Not Available\", \"Code Available\", \"Benchmark\"], loc=\"lower left\")\n",
    "plt.show()\n",
    "\n",
    "for i in range(5):\n",
    "    print(years[i], bnch_counts[i]/(bnch_counts[i]+cstm_counts[i]))"
   ]
  },
  {
   "cell_type": "markdown",
   "metadata": {},
   "source": [
    "# How's data release over time?"
   ]
  },
  {
   "cell_type": "code",
   "execution_count": 12,
   "metadata": {},
   "outputs": [],
   "source": [
    "# TODO"
   ]
  },
  {
   "cell_type": "markdown",
   "metadata": {},
   "source": [
    "## Log Transformed OLS Prediction of Citations"
   ]
  },
  {
   "cell_type": "code",
   "execution_count": 13,
   "metadata": {},
   "outputs": [],
   "source": [
    "# Import necessary packages\n",
    "import numpy as np\n",
    "import pandas as pd\n",
    "import statsmodels.api as sm"
   ]
  },
  {
   "cell_type": "code",
   "execution_count": 14,
   "metadata": {},
   "outputs": [
    {
     "name": "stdout",
     "output_type": "stream",
     "text": [
      "Review 37\n",
      "Review 65\n",
      "Review 87\n",
      "Review 166\n"
     ]
    }
   ],
   "source": [
    "# Load data into a Pandas DataFrame\n",
    "data_mat = []\n",
    "target_mat = []\n",
    "column_names = [\"ind\", \"is_open_access\", \"did_release_code\", \"public_data\"]\n",
    "target_name = [\"log_citations\"]\n",
    "for d in data:\n",
    "    if not used_custom_data(d) and not used_any_benchmark(d):\n",
    "        continue\n",
    "    try:\n",
    "        ind = int(d[\"ind\"])\n",
    "        years_elapsed = 2019 - int(d[\"year\"])\n",
    "        if int(d[\"citations\"])/years_elapsed > 100:\n",
    "            raise ValueError\n",
    "        is_open_access = int(open_access(d))\n",
    "        did_release_code = int(released_code(d))\n",
    "        public_data = int(used_any_benchmark(d))\n",
    "        targ_val = np.log(int(d[\"citations\"])/years_elapsed+1)\n",
    "        data_mat = data_mat + [[ind, is_open_access, did_release_code, public_data]]\n",
    "        target_mat = target_mat + [targ_val]\n",
    "    except ValueError:\n",
    "        print(\"Review\", d[\"ind\"])\n",
    "        \n",
    "        "
   ]
  },
  {
   "cell_type": "code",
   "execution_count": 15,
   "metadata": {},
   "outputs": [
    {
     "data": {
      "text/html": [
       "<div>\n",
       "<style scoped>\n",
       "    .dataframe tbody tr th:only-of-type {\n",
       "        vertical-align: middle;\n",
       "    }\n",
       "\n",
       "    .dataframe tbody tr th {\n",
       "        vertical-align: top;\n",
       "    }\n",
       "\n",
       "    .dataframe thead th {\n",
       "        text-align: right;\n",
       "    }\n",
       "</style>\n",
       "<table border=\"1\" class=\"dataframe\">\n",
       "  <thead>\n",
       "    <tr style=\"text-align: right;\">\n",
       "      <th></th>\n",
       "      <th>ind</th>\n",
       "      <th>is_open_access</th>\n",
       "      <th>did_release_code</th>\n",
       "      <th>public_data</th>\n",
       "    </tr>\n",
       "  </thead>\n",
       "  <tbody>\n",
       "    <tr>\n",
       "      <th>count</th>\n",
       "      <td>505.000000</td>\n",
       "      <td>505.000000</td>\n",
       "      <td>505.000000</td>\n",
       "      <td>505.000000</td>\n",
       "    </tr>\n",
       "    <tr>\n",
       "      <th>mean</th>\n",
       "      <td>299.487129</td>\n",
       "      <td>0.861386</td>\n",
       "      <td>0.075248</td>\n",
       "      <td>0.441584</td>\n",
       "    </tr>\n",
       "    <tr>\n",
       "      <th>std</th>\n",
       "      <td>171.686974</td>\n",
       "      <td>0.345886</td>\n",
       "      <td>0.264052</td>\n",
       "      <td>0.497068</td>\n",
       "    </tr>\n",
       "    <tr>\n",
       "      <th>min</th>\n",
       "      <td>2.000000</td>\n",
       "      <td>0.000000</td>\n",
       "      <td>0.000000</td>\n",
       "      <td>0.000000</td>\n",
       "    </tr>\n",
       "    <tr>\n",
       "      <th>25%</th>\n",
       "      <td>154.000000</td>\n",
       "      <td>1.000000</td>\n",
       "      <td>0.000000</td>\n",
       "      <td>0.000000</td>\n",
       "    </tr>\n",
       "    <tr>\n",
       "      <th>50%</th>\n",
       "      <td>286.000000</td>\n",
       "      <td>1.000000</td>\n",
       "      <td>0.000000</td>\n",
       "      <td>0.000000</td>\n",
       "    </tr>\n",
       "    <tr>\n",
       "      <th>75%</th>\n",
       "      <td>454.000000</td>\n",
       "      <td>1.000000</td>\n",
       "      <td>0.000000</td>\n",
       "      <td>1.000000</td>\n",
       "    </tr>\n",
       "    <tr>\n",
       "      <th>max</th>\n",
       "      <td>590.000000</td>\n",
       "      <td>1.000000</td>\n",
       "      <td>1.000000</td>\n",
       "      <td>1.000000</td>\n",
       "    </tr>\n",
       "  </tbody>\n",
       "</table>\n",
       "</div>"
      ],
      "text/plain": [
       "              ind  is_open_access  did_release_code  public_data\n",
       "count  505.000000      505.000000        505.000000   505.000000\n",
       "mean   299.487129        0.861386          0.075248     0.441584\n",
       "std    171.686974        0.345886          0.264052     0.497068\n",
       "min      2.000000        0.000000          0.000000     0.000000\n",
       "25%    154.000000        1.000000          0.000000     0.000000\n",
       "50%    286.000000        1.000000          0.000000     0.000000\n",
       "75%    454.000000        1.000000          0.000000     1.000000\n",
       "max    590.000000        1.000000          1.000000     1.000000"
      ]
     },
     "execution_count": 15,
     "metadata": {},
     "output_type": "execute_result"
    }
   ],
   "source": [
    "df_pred = pd.DataFrame(np.array(data_mat), columns=column_names)\n",
    "df_resp = pd.DataFrame(np.array(target_mat), columns=target_name)\n",
    "df_pred.describe()"
   ]
  },
  {
   "cell_type": "code",
   "execution_count": 16,
   "metadata": {},
   "outputs": [
    {
     "data": {
      "text/html": [
       "<div>\n",
       "<style scoped>\n",
       "    .dataframe tbody tr th:only-of-type {\n",
       "        vertical-align: middle;\n",
       "    }\n",
       "\n",
       "    .dataframe tbody tr th {\n",
       "        vertical-align: top;\n",
       "    }\n",
       "\n",
       "    .dataframe thead th {\n",
       "        text-align: right;\n",
       "    }\n",
       "</style>\n",
       "<table border=\"1\" class=\"dataframe\">\n",
       "  <thead>\n",
       "    <tr style=\"text-align: right;\">\n",
       "      <th></th>\n",
       "      <th>log_citations</th>\n",
       "    </tr>\n",
       "  </thead>\n",
       "  <tbody>\n",
       "    <tr>\n",
       "      <th>count</th>\n",
       "      <td>505.000000</td>\n",
       "    </tr>\n",
       "    <tr>\n",
       "      <th>mean</th>\n",
       "      <td>1.199990</td>\n",
       "    </tr>\n",
       "    <tr>\n",
       "      <th>std</th>\n",
       "      <td>0.837247</td>\n",
       "    </tr>\n",
       "    <tr>\n",
       "      <th>min</th>\n",
       "      <td>0.000000</td>\n",
       "    </tr>\n",
       "    <tr>\n",
       "      <th>25%</th>\n",
       "      <td>0.587787</td>\n",
       "    </tr>\n",
       "    <tr>\n",
       "      <th>50%</th>\n",
       "      <td>1.098612</td>\n",
       "    </tr>\n",
       "    <tr>\n",
       "      <th>75%</th>\n",
       "      <td>1.658228</td>\n",
       "    </tr>\n",
       "    <tr>\n",
       "      <th>max</th>\n",
       "      <td>4.094345</td>\n",
       "    </tr>\n",
       "  </tbody>\n",
       "</table>\n",
       "</div>"
      ],
      "text/plain": [
       "       log_citations\n",
       "count     505.000000\n",
       "mean        1.199990\n",
       "std         0.837247\n",
       "min         0.000000\n",
       "25%         0.587787\n",
       "50%         1.098612\n",
       "75%         1.658228\n",
       "max         4.094345"
      ]
     },
     "execution_count": 16,
     "metadata": {},
     "output_type": "execute_result"
    }
   ],
   "source": [
    "df_resp.describe()"
   ]
  },
  {
   "cell_type": "code",
   "execution_count": 17,
   "metadata": {},
   "outputs": [
    {
     "name": "stderr",
     "output_type": "stream",
     "text": [
      "/home/helle246/.local/lib/python3.6/site-packages/numpy/core/fromnumeric.py:52: FutureWarning: Method .ptp is deprecated and will be removed in a future version. Use numpy.ptp instead.\n",
      "  return getattr(obj, method)(*args, **kwds)\n"
     ]
    },
    {
     "data": {
      "text/html": [
       "<table class=\"simpletable\">\n",
       "<caption>OLS Regression Results</caption>\n",
       "<tr>\n",
       "  <th>Dep. Variable:</th>      <td>log_citations</td>  <th>  R-squared:         </th> <td>   0.079</td>\n",
       "</tr>\n",
       "<tr>\n",
       "  <th>Model:</th>                   <td>OLS</td>       <th>  Adj. R-squared:    </th> <td>   0.073</td>\n",
       "</tr>\n",
       "<tr>\n",
       "  <th>Method:</th>             <td>Least Squares</td>  <th>  F-statistic:       </th> <td>   14.24</td>\n",
       "</tr>\n",
       "<tr>\n",
       "  <th>Date:</th>             <td>Mon, 15 Jul 2019</td> <th>  Prob (F-statistic):</th> <td>6.40e-09</td>\n",
       "</tr>\n",
       "<tr>\n",
       "  <th>Time:</th>                 <td>00:10:20</td>     <th>  Log-Likelihood:    </th> <td> -605.69</td>\n",
       "</tr>\n",
       "<tr>\n",
       "  <th>No. Observations:</th>      <td>   505</td>      <th>  AIC:               </th> <td>   1219.</td>\n",
       "</tr>\n",
       "<tr>\n",
       "  <th>Df Residuals:</th>          <td>   501</td>      <th>  BIC:               </th> <td>   1236.</td>\n",
       "</tr>\n",
       "<tr>\n",
       "  <th>Df Model:</th>              <td>     3</td>      <th>                     </th>     <td> </td>   \n",
       "</tr>\n",
       "<tr>\n",
       "  <th>Covariance Type:</th>      <td>nonrobust</td>    <th>                     </th>     <td> </td>   \n",
       "</tr>\n",
       "</table>\n",
       "<table class=\"simpletable\">\n",
       "<tr>\n",
       "          <td></td>            <th>coef</th>     <th>std err</th>      <th>t</th>      <th>P>|t|</th>  <th>[0.025</th>    <th>0.975]</th>  \n",
       "</tr>\n",
       "<tr>\n",
       "  <th>const</th>            <td>    0.7320</td> <td>    0.102</td> <td>    7.150</td> <td> 0.000</td> <td>    0.531</td> <td>    0.933</td>\n",
       "</tr>\n",
       "<tr>\n",
       "  <th>is_open_access</th>   <td>    0.3419</td> <td>    0.104</td> <td>    3.292</td> <td> 0.001</td> <td>    0.138</td> <td>    0.546</td>\n",
       "</tr>\n",
       "<tr>\n",
       "  <th>did_release_code</th> <td>    0.4240</td> <td>    0.137</td> <td>    3.099</td> <td> 0.002</td> <td>    0.155</td> <td>    0.693</td>\n",
       "</tr>\n",
       "<tr>\n",
       "  <th>public_data</th>      <td>    0.3208</td> <td>    0.073</td> <td>    4.413</td> <td> 0.000</td> <td>    0.178</td> <td>    0.464</td>\n",
       "</tr>\n",
       "</table>\n",
       "<table class=\"simpletable\">\n",
       "<tr>\n",
       "  <th>Omnibus:</th>       <td>25.740</td> <th>  Durbin-Watson:     </th> <td>   1.915</td>\n",
       "</tr>\n",
       "<tr>\n",
       "  <th>Prob(Omnibus):</th> <td> 0.000</td> <th>  Jarque-Bera (JB):  </th> <td>  28.324</td>\n",
       "</tr>\n",
       "<tr>\n",
       "  <th>Skew:</th>          <td> 0.571</td> <th>  Prob(JB):          </th> <td>7.07e-07</td>\n",
       "</tr>\n",
       "<tr>\n",
       "  <th>Kurtosis:</th>      <td> 3.201</td> <th>  Cond. No.          </th> <td>    5.64</td>\n",
       "</tr>\n",
       "</table><br/><br/>Warnings:<br/>[1] Standard Errors assume that the covariance matrix of the errors is correctly specified."
      ],
      "text/plain": [
       "<class 'statsmodels.iolib.summary.Summary'>\n",
       "\"\"\"\n",
       "                            OLS Regression Results                            \n",
       "==============================================================================\n",
       "Dep. Variable:          log_citations   R-squared:                       0.079\n",
       "Model:                            OLS   Adj. R-squared:                  0.073\n",
       "Method:                 Least Squares   F-statistic:                     14.24\n",
       "Date:                Mon, 15 Jul 2019   Prob (F-statistic):           6.40e-09\n",
       "Time:                        00:10:20   Log-Likelihood:                -605.69\n",
       "No. Observations:                 505   AIC:                             1219.\n",
       "Df Residuals:                     501   BIC:                             1236.\n",
       "Df Model:                           3                                         \n",
       "Covariance Type:            nonrobust                                         \n",
       "====================================================================================\n",
       "                       coef    std err          t      P>|t|      [0.025      0.975]\n",
       "------------------------------------------------------------------------------------\n",
       "const                0.7320      0.102      7.150      0.000       0.531       0.933\n",
       "is_open_access       0.3419      0.104      3.292      0.001       0.138       0.546\n",
       "did_release_code     0.4240      0.137      3.099      0.002       0.155       0.693\n",
       "public_data          0.3208      0.073      4.413      0.000       0.178       0.464\n",
       "==============================================================================\n",
       "Omnibus:                       25.740   Durbin-Watson:                   1.915\n",
       "Prob(Omnibus):                  0.000   Jarque-Bera (JB):               28.324\n",
       "Skew:                           0.571   Prob(JB):                     7.07e-07\n",
       "Kurtosis:                       3.201   Cond. No.                         5.64\n",
       "==============================================================================\n",
       "\n",
       "Warnings:\n",
       "[1] Standard Errors assume that the covariance matrix of the errors is correctly specified.\n",
       "\"\"\""
      ]
     },
     "execution_count": 17,
     "metadata": {},
     "output_type": "execute_result"
    }
   ],
   "source": [
    "X = df_pred[[\"is_open_access\", \"did_release_code\", \"public_data\"]]\n",
    "Y = df_resp[\"log_citations\"]\n",
    "\n",
    "X = sm.add_constant(X)\n",
    "\n",
    "model = sm.OLS(Y, X).fit()\n",
    "predictions = model.predict(X)\n",
    "\n",
    "model.summary()"
   ]
  },
  {
   "cell_type": "code",
   "execution_count": 18,
   "metadata": {},
   "outputs": [
    {
     "name": "stdout",
     "output_type": "stream",
     "text": [
      "THIS UNDERESTIMATES THE RATIO DUE TO THE HIGH PREVALENCE OF LOW-CITATION PAPERS\n",
      "The log+1 has only a very small effect on most distributions, but a really large one on ours\n",
      "Public Data Citation increase: 37.8%.   95% CI: [10.1%, 88.5%]\n"
     ]
    }
   ],
   "source": [
    "print(\"THIS UNDERESTIMATES THE RATIO DUE TO THE HIGH PREVALENCE OF LOW-CITATION PAPERS\")\n",
    "print(\"The log+1 has only a very small effect on most distributions, but a really large one on ours\")\n",
    "print(\"Public Data Citation increase: {1:0.1f}%.   95% CI: [{0:0.1f}%, {2:0.1f}%]\".format(\n",
    "    100*(np.exp(0.096)-1), # change this to given value\n",
    "    100*(np.exp(model.params[\"public_data\"])-1), \n",
    "    100*(np.exp(0.634)-1) # Change this to given value\n",
    "))"
   ]
  },
  {
   "cell_type": "markdown",
   "metadata": {},
   "source": [
    "## What if I try controlling by restriction plus weighted sum?"
   ]
  },
  {
   "cell_type": "code",
   "execution_count": 19,
   "metadata": {},
   "outputs": [
    {
     "name": "stdout",
     "output_type": "stream",
     "text": [
      "OPEN ACCESS AND CODE RELEASE\n",
      "Excluding... []\n",
      "Total: 25\n",
      "10.053333333333335\n"
     ]
    },
    {
     "data": {
      "image/png": "[encoded data removed]",
      "text/plain": [
       "<Figure size 432x288 with 1 Axes>"
      ]
     },
     "metadata": {},
     "output_type": "display_data"
    },
    {
     "name": "stdout",
     "output_type": "stream",
     "text": [
      "\n",
      "\n",
      "Excluding... [243.66666667]\n",
      "Total: 8\n",
      "3.175\n"
     ]
    },
    {
     "data": {
      "image/png": "[encoded data removed]",
      "text/plain": [
       "<Figure size 432x288 with 1 Axes>"
      ]
     },
     "metadata": {},
     "output_type": "display_data"
    },
    {
     "name": "stdout",
     "output_type": "stream",
     "text": [
      "3.1664041994750662\n",
      "OPEN ACCESS AND NO CODE RELEASE\n",
      "65 needs reviewing\n",
      "87 needs reviewing\n",
      "166 needs reviewing\n",
      "Excluding... []\n",
      "Total: 177\n",
      "5.320527306967985\n"
     ]
    },
    {
     "data": {
      "image/png": "[encoded data removed]",
      "text/plain": [
       "<Figure size 432x288 with 1 Axes>"
      ]
     },
     "metadata": {},
     "output_type": "display_data"
    },
    {
     "name": "stdout",
     "output_type": "stream",
     "text": [
      "\n",
      "\n",
      "Excluding... []\n",
      "Total: 226\n",
      "2.912241887905605\n"
     ]
    },
    {
     "data": {
      "image/png": "[encoded data removed]",
      "text/plain": [
       "<Figure size 432x288 with 1 Axes>"
      ]
     },
     "metadata": {},
     "output_type": "display_data"
    },
    {
     "name": "stdout",
     "output_type": "stream",
     "text": [
      "1.8269524001642408\n",
      "NOT OPEN ACCESS AND CODE RELEASE\n",
      "Excluding... []\n",
      "Total: 4\n",
      "0.9333333333333333\n"
     ]
    },
    {
     "data": {
      "image/png": "[encoded data removed]",
      "text/plain": [
       "<Figure size 432x288 with 1 Axes>"
      ]
     },
     "metadata": {},
     "output_type": "display_data"
    },
    {
     "name": "stdout",
     "output_type": "stream",
     "text": [
      "\n",
      "\n",
      "Excluding... []\n",
      "Total: 1\n",
      "1.3333333333333333\n"
     ]
    },
    {
     "data": {
      "image/png": "[encoded data removed]",
      "text/plain": [
       "<Figure size 432x288 with 1 Axes>"
      ]
     },
     "metadata": {},
     "output_type": "display_data"
    },
    {
     "name": "stdout",
     "output_type": "stream",
     "text": [
      "0.7000000000000001\n",
      "OPEN ACCESS AND NO CODE RELEASE\n",
      "Excluding... []\n",
      "Total: 29\n",
      "3.6011494252873564\n"
     ]
    },
    {
     "data": {
      "image/png": "[encoded data removed]",
      "text/plain": [
       "<Figure size 432x288 with 1 Axes>"
      ]
     },
     "metadata": {},
     "output_type": "display_data"
    },
    {
     "name": "stdout",
     "output_type": "stream",
     "text": [
      "\n",
      "\n",
      "Excluding... []\n",
      "Total: 36\n",
      "1.5324074074074074\n"
     ]
    },
    {
     "data": {
      "image/png": "[encoded data removed]",
      "text/plain": [
       "<Figure size 432x288 with 1 Axes>"
      ]
     },
     "metadata": {},
     "output_type": "display_data"
    },
    {
     "name": "stdout",
     "output_type": "stream",
     "text": [
      "2.3499947911240753\n",
      "RATIO AFTER CONTROLLING: 1.9718628993566645\n"
     ]
    }
   ],
   "source": [
    "print(\"OPEN ACCESS AND CODE RELEASE\")\n",
    "\n",
    "agg_rat = 0\n",
    "N = 0\n",
    "\n",
    "bnch_citations = []\n",
    "cstm_citations = []\n",
    "n = 0\n",
    "for d in [d for d in data if open_access(d) and released_code(d)]:\n",
    "    if used_any_benchmark(d) or used_custom_re(d):\n",
    "        try:\n",
    "            bnch_citations = bnch_citations + [int(d[\"citations\"])/(2019 - int(d[\"year\"]))]\n",
    "        except ValueError:\n",
    "            print(d[\"ind\"], \"needs reviewing\")\n",
    "        n = n + 1\n",
    "    elif used_custom_nore(d):\n",
    "        try:\n",
    "            cstm_citations = cstm_citations + [int(d[\"citations\"])/(2019 - int(d[\"year\"]))]\n",
    "        except ValueError:\n",
    "            print(d[\"ind\"], \"needs reviewing\")\n",
    "        n = n + 1\n",
    "\n",
    "            \n",
    "# First benchmark\n",
    "bnch_cits = np.sort(np.array(bnch_citations))\n",
    "print(\"Excluding...\", bnch_cits[bnch_cits > 100])\n",
    "print(\"Total:\", bnch_cits[bnch_cits <= 100].shape[0])\n",
    "print(np.mean(bnch_cits[bnch_cits <= 100]))\n",
    "plt.hist(bnch_cits[bnch_cits <= 100], bins=40)\n",
    "plt.show()\n",
    "\n",
    "print(\"\\n\")\n",
    "# Then custom no release\n",
    "cstm_cits = np.sort(np.array(cstm_citations))\n",
    "print(\"Excluding...\", cstm_cits[cstm_cits > 100])\n",
    "print(\"Total:\", cstm_cits[cstm_cits <= 100].shape[0])\n",
    "print(np.mean(cstm_cits[cstm_cits <= 100]))\n",
    "plt.hist(cstm_cits[cstm_cits <= 100], bins=40)\n",
    "plt.show()\n",
    "\n",
    "rat = np.mean(bnch_cits[bnch_cits <= 100])/np.mean(cstm_cits[cstm_cits <= 100])\n",
    "agg_rat = agg_rat + n*rat\n",
    "N = N + n\n",
    "print(rat)\n",
    "\n",
    "print(\"OPEN ACCESS AND NO CODE RELEASE\")\n",
    "\n",
    "bnch_citations = []\n",
    "cstm_citations = []\n",
    "n = 0\n",
    "for d in [d for d in data if open_access(d) and not released_code(d)]:\n",
    "    if used_any_benchmark(d) or used_custom_re(d):\n",
    "        try:\n",
    "            bnch_citations = bnch_citations + [int(d[\"citations\"])/(2019 - int(d[\"year\"]))]\n",
    "        except ValueError:\n",
    "            print(d[\"ind\"], \"needs reviewing\")\n",
    "        n = n + 1\n",
    "    elif used_custom_nore(d):\n",
    "        try:\n",
    "            cstm_citations = cstm_citations + [int(d[\"citations\"])/(2019 - int(d[\"year\"]))]\n",
    "        except ValueError:\n",
    "            print(d[\"ind\"], \"needs reviewing\")\n",
    "        n = n + 1\n",
    "\n",
    "            \n",
    "# First benchmark\n",
    "bnch_cits = np.sort(np.array(bnch_citations))\n",
    "print(\"Excluding...\", bnch_cits[bnch_cits > 100])\n",
    "print(\"Total:\", bnch_cits[bnch_cits <= 100].shape[0])\n",
    "print(np.mean(bnch_cits[bnch_cits <= 100]))\n",
    "plt.hist(bnch_cits[bnch_cits <= 100], bins=40)\n",
    "plt.show()\n",
    "\n",
    "print(\"\\n\")\n",
    "# Then custom no release\n",
    "cstm_cits = np.sort(np.array(cstm_citations))\n",
    "print(\"Excluding...\", cstm_cits[cstm_cits > 100])\n",
    "print(\"Total:\", cstm_cits[cstm_cits <= 100].shape[0])\n",
    "print(np.mean(cstm_cits[cstm_cits <= 100]))\n",
    "plt.hist(cstm_cits[cstm_cits <= 100], bins=40)\n",
    "plt.show()\n",
    "\n",
    "rat = np.mean(bnch_cits[bnch_cits <= 100])/np.mean(cstm_cits[cstm_cits <= 100])\n",
    "agg_rat = agg_rat + n*rat\n",
    "N = N + n\n",
    "print(rat)\n",
    "\n",
    "\n",
    "print(\"NOT OPEN ACCESS AND CODE RELEASE\")\n",
    "\n",
    "bnch_citations = []\n",
    "cstm_citations = []\n",
    "n = 0\n",
    "for d in [d for d in data if not open_access(d) and released_code(d)]:\n",
    "    if used_any_benchmark(d) or used_custom_re(d):\n",
    "        try:\n",
    "            bnch_citations = bnch_citations + [int(d[\"citations\"])/(2019 - int(d[\"year\"]))]\n",
    "        except ValueError:\n",
    "            print(d[\"ind\"], \"needs reviewing\")\n",
    "        n = n + 1\n",
    "    elif used_custom_nore(d):\n",
    "        try:\n",
    "            cstm_citations = cstm_citations + [int(d[\"citations\"])/(2019 - int(d[\"year\"]))]\n",
    "        except ValueError:\n",
    "            print(d[\"ind\"], \"needs reviewing\")\n",
    "        n = n + 1\n",
    "\n",
    "            \n",
    "# First benchmark\n",
    "bnch_cits = np.sort(np.array(bnch_citations))\n",
    "print(\"Excluding...\", bnch_cits[bnch_cits > 100])\n",
    "print(\"Total:\", bnch_cits[bnch_cits <= 100].shape[0])\n",
    "print(np.mean(bnch_cits[bnch_cits <= 100]))\n",
    "plt.hist(bnch_cits[bnch_cits <= 100], bins=40)\n",
    "plt.show()\n",
    "\n",
    "print(\"\\n\")\n",
    "# Then custom no release\n",
    "cstm_cits = np.sort(np.array(cstm_citations))\n",
    "print(\"Excluding...\", cstm_cits[cstm_cits > 100])\n",
    "print(\"Total:\", cstm_cits[cstm_cits <= 100].shape[0])\n",
    "print(np.mean(cstm_cits[cstm_cits <= 100]))\n",
    "plt.hist(cstm_cits[cstm_cits <= 100], bins=40)\n",
    "plt.show()\n",
    "\n",
    "rat = np.mean(bnch_cits[bnch_cits <= 100])/np.mean(cstm_cits[cstm_cits <= 100])\n",
    "agg_rat = agg_rat + n*rat\n",
    "N = N + n\n",
    "print(rat)\n",
    "\n",
    "\n",
    "print(\"OPEN ACCESS AND NO CODE RELEASE\")\n",
    "\n",
    "bnch_citations = []\n",
    "cstm_citations = []\n",
    "n = 0\n",
    "for d in [d for d in data if not open_access(d) and not released_code(d)]:\n",
    "    if used_any_benchmark(d) or used_custom_re(d):\n",
    "        try:\n",
    "            bnch_citations = bnch_citations + [int(d[\"citations\"])/(2019 - int(d[\"year\"]))]\n",
    "        except ValueError:\n",
    "            print(d[\"ind\"], \"needs reviewing\")\n",
    "        n = n + 1\n",
    "    elif used_custom_nore(d):\n",
    "        try:\n",
    "            cstm_citations = cstm_citations + [int(d[\"citations\"])/(2019 - int(d[\"year\"]))]\n",
    "        except ValueError:\n",
    "            print(d[\"ind\"], \"needs reviewing\")\n",
    "        n = n + 1\n",
    "\n",
    "            \n",
    "# First benchmark\n",
    "bnch_cits = np.sort(np.array(bnch_citations))\n",
    "print(\"Excluding...\", bnch_cits[bnch_cits > 100])\n",
    "print(\"Total:\", bnch_cits[bnch_cits <= 100].shape[0])\n",
    "print(np.mean(bnch_cits[bnch_cits <= 100]))\n",
    "plt.hist(bnch_cits[bnch_cits <= 100], bins=40)\n",
    "plt.show()\n",
    "\n",
    "print(\"\\n\")\n",
    "# Then custom no release\n",
    "cstm_cits = np.sort(np.array(cstm_citations))\n",
    "print(\"Excluding...\", cstm_cits[cstm_cits > 100])\n",
    "print(\"Total:\", cstm_cits[cstm_cits <= 100].shape[0])\n",
    "print(np.mean(cstm_cits[cstm_cits <= 100]))\n",
    "plt.hist(cstm_cits[cstm_cits <= 100], bins=40)\n",
    "plt.show()\n",
    "\n",
    "\n",
    "rat = np.mean(bnch_cits[bnch_cits <= 100])/np.mean(cstm_cits[cstm_cits <= 100])\n",
    "agg_rat = agg_rat + n*rat\n",
    "N = N + n\n",
    "print(rat)\n",
    "\n",
    "\n",
    "print(\"RATIO AFTER CONTROLLING:\", agg_rat/N)"
   ]
  },
  {
   "cell_type": "markdown",
   "metadata": {},
   "source": [
    "## I could also Winsorize here"
   ]
  },
  {
   "cell_type": "code",
   "execution_count": 20,
   "metadata": {},
   "outputs": [
    {
     "name": "stdout",
     "output_type": "stream",
     "text": [
      "OPEN ACCESS AND CODE RELEASE\n",
      "Total: 25\n",
      "9.693333333333333\n",
      "\n",
      "\n",
      "Total: 9\n",
      "8.377777777777778\n",
      "1.1570291777188328\n",
      "OPEN ACCESS AND NO CODE RELEASE\n",
      "65 needs reviewing\n",
      "87 needs reviewing\n",
      "166 needs reviewing\n",
      "Total: 177\n",
      "5.320527306967985\n",
      "\n",
      "\n",
      "Total: 226\n",
      "2.912241887905605\n",
      "1.8269524001642408\n",
      "NOT OPEN ACCESS AND CODE RELEASE\n",
      "Total: 4\n",
      "0.9333333333333333\n",
      "\n",
      "\n",
      "Total: 1\n",
      "1.3333333333333333\n",
      "0.7000000000000001\n",
      "NOT OPEN ACCESS AND NO CODE RELEASE\n",
      "Total: 29\n",
      "3.6011494252873564\n",
      "\n",
      "\n",
      "Total: 36\n",
      "1.5324074074074074\n",
      "2.3499947911240753\n",
      "RATIO AFTER CONTROLLING: 1.8379045645729155\n"
     ]
    }
   ],
   "source": [
    "print(\"OPEN ACCESS AND CODE RELEASE\")\n",
    "\n",
    "agg_rat = 0\n",
    "N = 0\n",
    "\n",
    "bnch_citations = []\n",
    "cstm_citations = []\n",
    "n = 0\n",
    "for d in [d for d in data if open_access(d) and released_code(d)]:\n",
    "    if used_any_benchmark(d) or used_custom_re(d):\n",
    "        try:\n",
    "            bnch_citations = bnch_citations + [int(d[\"citations\"])/(2019 - int(d[\"year\"]))]\n",
    "        except ValueError:\n",
    "            print(d[\"ind\"], \"needs reviewing\")\n",
    "        n = n + 1\n",
    "    elif used_custom_nore(d):\n",
    "        try:\n",
    "            cstm_citations = cstm_citations + [int(d[\"citations\"])/(2019 - int(d[\"year\"]))]\n",
    "        except ValueError:\n",
    "            print(d[\"ind\"], \"needs reviewing\")\n",
    "        n = n + 1\n",
    "\n",
    "            \n",
    "# First benchmark\n",
    "bnch_cits = np.sort(np.array(bnch_citations))\n",
    "# print(\"Excluding...\", bnch_cits[bnch_cits > 100])\n",
    "bnch_cits[bnch_cits > 50] = 50\n",
    "print(\"Total:\", bnch_cits.shape[0])\n",
    "print(np.mean(bnch_cits))\n",
    "# plt.hist(bnch_cits[bnch_cits <= 100], bins=40)\n",
    "# plt.show()\n",
    "\n",
    "print(\"\\n\")\n",
    "# Then custom no release\n",
    "cstm_cits = np.sort(np.array(cstm_citations))\n",
    "# print(\"Excluding...\", cstm_cits[cstm_cits > 100])\n",
    "cstm_cits[cstm_cits > 50] = 50\n",
    "print(\"Total:\", cstm_cits.shape[0])\n",
    "print(np.mean(cstm_cits))\n",
    "# plt.hist(cstm_cits[cstm_cits <= 100], bins=40)\n",
    "# plt.show()\n",
    "\n",
    "rat = np.mean(bnch_cits[bnch_cits <= 100])/np.mean(cstm_cits[cstm_cits <= 100])\n",
    "agg_rat = agg_rat + n*rat\n",
    "N = N + n\n",
    "print(rat)\n",
    "\n",
    "print(\"OPEN ACCESS AND NO CODE RELEASE\")\n",
    "\n",
    "bnch_citations = []\n",
    "cstm_citations = []\n",
    "n = 0\n",
    "for d in [d for d in data if open_access(d) and not released_code(d)]:\n",
    "    if used_any_benchmark(d) or used_custom_re(d):\n",
    "        try:\n",
    "            bnch_citations = bnch_citations + [int(d[\"citations\"])/(2019 - int(d[\"year\"]))]\n",
    "        except ValueError:\n",
    "            print(d[\"ind\"], \"needs reviewing\")\n",
    "        n = n + 1\n",
    "    elif used_custom_nore(d):\n",
    "        try:\n",
    "            cstm_citations = cstm_citations + [int(d[\"citations\"])/(2019 - int(d[\"year\"]))]\n",
    "        except ValueError:\n",
    "            print(d[\"ind\"], \"needs reviewing\")\n",
    "        n = n + 1\n",
    "\n",
    "            \n",
    "# First benchmark\n",
    "bnch_cits = np.sort(np.array(bnch_citations))\n",
    "# print(\"Excluding...\", bnch_cits[bnch_cits > 100])\n",
    "bnch_cits[bnch_cits > 50] = 50\n",
    "print(\"Total:\", bnch_cits.shape[0])\n",
    "print(np.mean(bnch_cits))\n",
    "# plt.hist(bnch_cits[bnch_cits <= 100], bins=40)\n",
    "# plt.show()\n",
    "\n",
    "print(\"\\n\")\n",
    "# Then custom no release\n",
    "cstm_cits = np.sort(np.array(cstm_citations))\n",
    "# print(\"Excluding...\", cstm_cits[cstm_cits > 100])\n",
    "cstm_cits[cstm_cits > 50] = 50\n",
    "print(\"Total:\", cstm_cits.shape[0])\n",
    "print(np.mean(cstm_cits))\n",
    "# plt.hist(cstm_cits[cstm_cits <= 100], bins=40)\n",
    "# plt.show()\n",
    "\n",
    "\n",
    "rat = np.mean(bnch_cits[bnch_cits <= 100])/np.mean(cstm_cits[cstm_cits <= 100])\n",
    "agg_rat = agg_rat + n*rat\n",
    "N = N + n\n",
    "print(rat)\n",
    "\n",
    "\n",
    "print(\"NOT OPEN ACCESS AND CODE RELEASE\")\n",
    "\n",
    "bnch_citations = []\n",
    "cstm_citations = []\n",
    "n = 0\n",
    "for d in [d for d in data if not open_access(d) and released_code(d)]:\n",
    "    if used_any_benchmark(d) or used_custom_re(d):\n",
    "        try:\n",
    "            bnch_citations = bnch_citations + [int(d[\"citations\"])/(2019 - int(d[\"year\"]))]\n",
    "        except ValueError:\n",
    "            print(d[\"ind\"], \"needs reviewing\")\n",
    "        n = n + 1\n",
    "    elif used_custom_nore(d):\n",
    "        try:\n",
    "            cstm_citations = cstm_citations + [int(d[\"citations\"])/(2019 - int(d[\"year\"]))]\n",
    "        except ValueError:\n",
    "            print(d[\"ind\"], \"needs reviewing\")\n",
    "        n = n + 1\n",
    "\n",
    "            \n",
    "# First benchmark\n",
    "bnch_cits = np.sort(np.array(bnch_citations))\n",
    "# print(\"Excluding...\", bnch_cits[bnch_cits > 100])\n",
    "bnch_cits[bnch_cits > 50] = 50\n",
    "print(\"Total:\", bnch_cits.shape[0])\n",
    "print(np.mean(bnch_cits))\n",
    "# plt.hist(bnch_cits[bnch_cits <= 100], bins=40)\n",
    "# plt.show()\n",
    "\n",
    "print(\"\\n\")\n",
    "# Then custom no release\n",
    "cstm_cits = np.sort(np.array(cstm_citations))\n",
    "# print(\"Excluding...\", cstm_cits[cstm_cits > 100])\n",
    "cstm_cits[cstm_cits > 50] = 50\n",
    "print(\"Total:\", cstm_cits.shape[0])\n",
    "print(np.mean(cstm_cits))\n",
    "# plt.hist(cstm_cits[cstm_cits <= 100], bins=40)\n",
    "# plt.show()\n",
    "\n",
    "\n",
    "rat = np.mean(bnch_cits[bnch_cits <= 100])/np.mean(cstm_cits[cstm_cits <= 100])\n",
    "agg_rat = agg_rat + n*rat\n",
    "N = N + n\n",
    "print(rat)\n",
    "\n",
    "\n",
    "print(\"NOT OPEN ACCESS AND NO CODE RELEASE\")\n",
    "\n",
    "bnch_citations = []\n",
    "cstm_citations = []\n",
    "n = 0\n",
    "for d in [d for d in data if not open_access(d) and not released_code(d)]:\n",
    "    if used_any_benchmark(d) or used_custom_re(d):\n",
    "        try:\n",
    "            bnch_citations = bnch_citations + [int(d[\"citations\"])/(2019 - int(d[\"year\"]))]\n",
    "        except ValueError:\n",
    "            print(d[\"ind\"], \"needs reviewing\")\n",
    "        n = n + 1\n",
    "    elif used_custom_nore(d):\n",
    "        try:\n",
    "            cstm_citations = cstm_citations + [int(d[\"citations\"])/(2019 - int(d[\"year\"]))]\n",
    "        except ValueError:\n",
    "            print(d[\"ind\"], \"needs reviewing\")\n",
    "        n = n + 1\n",
    "\n",
    "            \n",
    "# First benchmark\n",
    "bnch_cits = np.sort(np.array(bnch_citations))\n",
    "# print(\"Excluding...\", bnch_cits[bnch_cits > 100])\n",
    "bnch_cits[bnch_cits > 50] = 50\n",
    "print(\"Total:\", bnch_cits.shape[0])\n",
    "print(np.mean(bnch_cits))\n",
    "# plt.hist(bnch_cits[bnch_cits <= 100], bins=40)\n",
    "# plt.show()\n",
    "\n",
    "print(\"\\n\")\n",
    "# Then custom no release\n",
    "cstm_cits = np.sort(np.array(cstm_citations))\n",
    "# print(\"Excluding...\", cstm_cits[cstm_cits > 100])\n",
    "cstm_cits[cstm_cits > 50] = 50\n",
    "print(\"Total:\", cstm_cits.shape[0])\n",
    "print(np.mean(cstm_cits))\n",
    "# plt.hist(cstm_cits[cstm_cits <= 100], bins=40)\n",
    "# plt.show()\n",
    "\n",
    "\n",
    "\n",
    "rat = np.mean(bnch_cits[bnch_cits <= 100])/np.mean(cstm_cits[cstm_cits <= 100])\n",
    "agg_rat = agg_rat + n*rat\n",
    "N = N + n\n",
    "print(rat)\n",
    "\n",
    "\n",
    "print(\"RATIO AFTER CONTROLLING:\", agg_rat/N)"
   ]
  },
  {
   "cell_type": "markdown",
   "metadata": {},
   "source": [
    "## Okay actually Fieller's method seems like the best choice"
   ]
  },
  {
   "cell_type": "code",
   "execution_count": 21,
   "metadata": {},
   "outputs": [
    {
     "name": "stdout",
     "output_type": "stream",
     "text": [
      "OPEN ACCESS AND CODE RELEASE\n",
      "Total: 25\n",
      "9.693333333333333\n",
      "\n",
      "\n",
      "Total: 9\n",
      "8.377777777777778\n",
      "1.1570291777188328\n",
      "OPEN ACCESS AND NO CODE RELEASE\n",
      "65 needs reviewing\n",
      "87 needs reviewing\n",
      "166 needs reviewing\n",
      "Total: 177\n",
      "5.320527306967985\n",
      "\n",
      "\n",
      "Total: 226\n",
      "2.912241887905605\n",
      "1.8269524001642408\n",
      "NOT OPEN ACCESS AND CODE RELEASE\n",
      "Total: 4\n",
      "0.9333333333333333\n",
      "\n",
      "\n",
      "Total: 1\n",
      "1.3333333333333333\n",
      "0.7000000000000001\n",
      "NOT OPEN ACCESS AND NO CODE RELEASE\n",
      "Total: 29\n",
      "3.6011494252873564\n",
      "\n",
      "\n",
      "Total: 36\n",
      "1.5324074074074074\n",
      "2.3499947911240753\n",
      "RATIO AFTER CONTROLLING: 1.8136757525875156\n"
     ]
    }
   ],
   "source": [
    "print(\"OPEN ACCESS AND CODE RELEASE\")\n",
    "\n",
    "agg_rat = 0\n",
    "N = 0\n",
    "agg_bnch_resids = []\n",
    "agg_cstm_resids = []\n",
    "agg_all_citations = []\n",
    "\n",
    "\n",
    "bnch_citations = []\n",
    "cstm_citations = []\n",
    "strt_citations = []\n",
    "n = 0\n",
    "for d in [d for d in data if open_access(d) and released_code(d)]:\n",
    "    if used_any_benchmark(d) or used_custom_re(d):\n",
    "        try:\n",
    "            bnch_citations = bnch_citations + [int(d[\"citations\"])/(2019 - int(d[\"year\"]))]\n",
    "        except ValueError:\n",
    "            print(d[\"ind\"], \"needs reviewing\")\n",
    "        n = n + 1\n",
    "    elif used_custom_nore(d):\n",
    "        try:\n",
    "            cstm_citations = cstm_citations + [int(d[\"citations\"])/(2019 - int(d[\"year\"]))]\n",
    "        except ValueError:\n",
    "            print(d[\"ind\"], \"needs reviewing\")\n",
    "        n = n + 1\n",
    "\n",
    "\n",
    "strt_citations = bnch_citations + strt_citations\n",
    "agg_all_citations = agg_all_citations + strt_citations\n",
    "strt_mean = np.mean(strt_citations)\n",
    "\n",
    "# First benchmark\n",
    "bnch_cits = np.sort(np.array(bnch_citations))\n",
    "# print(\"Excluding...\", bnch_cits[bnch_cits > 100])\n",
    "bnch_cits[bnch_cits > 50] = 50\n",
    "print(\"Total:\", bnch_cits.shape[0])\n",
    "print(np.mean(bnch_cits))\n",
    "# plt.hist(bnch_cits[bnch_cits <= 100], bins=40)\n",
    "# plt.show()\n",
    "agg_bnch_resids = agg_bnch_resids + [b - strt_mean for b in bnch_cits]\n",
    "\n",
    "print(\"\\n\")\n",
    "# Then custom no release\n",
    "cstm_cits = np.sort(np.array(cstm_citations))\n",
    "# print(\"Excluding...\", cstm_cits[cstm_cits > 100])\n",
    "cstm_cits[cstm_cits > 50] = 50\n",
    "print(\"Total:\", cstm_cits.shape[0])\n",
    "print(np.mean(cstm_cits))\n",
    "# plt.hist(cstm_cits[cstm_cits <= 100], bins=40)\n",
    "# plt.show()\n",
    "agg_cstm_resids = agg_cstm_resids + [c - strt_mean for c in cstm_cits]\n",
    "\n",
    "rat = np.mean(bnch_cits[bnch_cits <= 100])/np.mean(cstm_cits[cstm_cits <= 100])\n",
    "agg_rat = agg_rat + n*rat\n",
    "N = N + n\n",
    "print(rat)\n",
    "\n",
    "print(\"OPEN ACCESS AND NO CODE RELEASE\")\n",
    "\n",
    "bnch_citations = []\n",
    "cstm_citations = []\n",
    "n = 0\n",
    "for d in [d for d in data if open_access(d) and not released_code(d)]:\n",
    "    if used_any_benchmark(d) or used_custom_re(d):\n",
    "        try:\n",
    "            bnch_citations = bnch_citations + [int(d[\"citations\"])/(2019 - int(d[\"year\"]))]\n",
    "        except ValueError:\n",
    "            print(d[\"ind\"], \"needs reviewing\")\n",
    "        n = n + 1\n",
    "    elif used_custom_nore(d):\n",
    "        try:\n",
    "            cstm_citations = cstm_citations + [int(d[\"citations\"])/(2019 - int(d[\"year\"]))]\n",
    "        except ValueError:\n",
    "            print(d[\"ind\"], \"needs reviewing\")\n",
    "        n = n + 1\n",
    "\n",
    "            \n",
    "strt_citations = bnch_citations + strt_citations\n",
    "agg_all_citations = agg_all_citations + strt_citations\n",
    "strt_mean = np.mean(strt_citations)\n",
    "\n",
    "# First benchmark\n",
    "bnch_cits = np.sort(np.array(bnch_citations))\n",
    "# print(\"Excluding...\", bnch_cits[bnch_cits > 100])\n",
    "bnch_cits[bnch_cits > 50] = 50\n",
    "print(\"Total:\", bnch_cits.shape[0])\n",
    "print(np.mean(bnch_cits))\n",
    "# plt.hist(bnch_cits[bnch_cits <= 100], bins=40)\n",
    "# plt.show()\n",
    "agg_bnch_resids = agg_bnch_resids + [b - strt_mean for b in bnch_cits]\n",
    "\n",
    "print(\"\\n\")\n",
    "# Then custom no release\n",
    "cstm_cits = np.sort(np.array(cstm_citations))\n",
    "# print(\"Excluding...\", cstm_cits[cstm_cits > 100])\n",
    "cstm_cits[cstm_cits > 50] = 50\n",
    "print(\"Total:\", cstm_cits.shape[0])\n",
    "print(np.mean(cstm_cits))\n",
    "# plt.hist(cstm_cits[cstm_cits <= 100], bins=40)\n",
    "# plt.show()\n",
    "agg_cstm_resids = agg_cstm_resids + [c - strt_mean for c in cstm_cits]\n",
    "\n",
    "\n",
    "rat = np.mean(bnch_cits[bnch_cits <= 100])/np.mean(cstm_cits[cstm_cits <= 100])\n",
    "agg_rat = agg_rat + n*rat\n",
    "N = N + n\n",
    "print(rat)\n",
    "\n",
    "\n",
    "print(\"NOT OPEN ACCESS AND CODE RELEASE\")\n",
    "\n",
    "bnch_citations = []\n",
    "cstm_citations = []\n",
    "n = 0\n",
    "for d in [d for d in data if not open_access(d) and released_code(d)]:\n",
    "    if used_any_benchmark(d) or used_custom_re(d):\n",
    "        try:\n",
    "            bnch_citations = bnch_citations + [int(d[\"citations\"])/(2019 - int(d[\"year\"]))]\n",
    "        except ValueError:\n",
    "            print(d[\"ind\"], \"needs reviewing\")\n",
    "        n = n + 1\n",
    "    elif used_custom_nore(d):\n",
    "        try:\n",
    "            cstm_citations = cstm_citations + [int(d[\"citations\"])/(2019 - int(d[\"year\"]))]\n",
    "        except ValueError:\n",
    "            print(d[\"ind\"], \"needs reviewing\")\n",
    "        n = n + 1\n",
    "\n",
    "            \n",
    "strt_citations = bnch_citations + strt_citations\n",
    "agg_all_citations = agg_all_citations + strt_citations\n",
    "strt_mean = np.mean(strt_citations)\n",
    "\n",
    "# First benchmark\n",
    "bnch_cits = np.sort(np.array(bnch_citations))\n",
    "# print(\"Excluding...\", bnch_cits[bnch_cits > 100])\n",
    "bnch_cits[bnch_cits > 50] = 50\n",
    "print(\"Total:\", bnch_cits.shape[0])\n",
    "print(np.mean(bnch_cits))\n",
    "# plt.hist(bnch_cits[bnch_cits <= 100], bins=40)\n",
    "# plt.show()\n",
    "agg_bnch_resids = agg_bnch_resids + [b - strt_mean for b in bnch_cits]\n",
    "\n",
    "print(\"\\n\")\n",
    "# Then custom no release\n",
    "cstm_cits = np.sort(np.array(cstm_citations))\n",
    "# print(\"Excluding...\", cstm_cits[cstm_cits > 100])\n",
    "cstm_cits[cstm_cits > 50] = 50\n",
    "print(\"Total:\", cstm_cits.shape[0])\n",
    "print(np.mean(cstm_cits))\n",
    "# plt.hist(cstm_cits[cstm_cits <= 100], bins=40)\n",
    "# plt.show()\n",
    "agg_cstm_resids = agg_cstm_resids + [c - strt_mean for c in cstm_cits]\n",
    "\n",
    "\n",
    "rat = np.mean(bnch_cits[bnch_cits <= 100])/np.mean(cstm_cits[cstm_cits <= 100])\n",
    "agg_rat = agg_rat + n*rat\n",
    "N = N + n\n",
    "print(rat)\n",
    "\n",
    "\n",
    "print(\"NOT OPEN ACCESS AND NO CODE RELEASE\")\n",
    "\n",
    "bnch_citations = []\n",
    "cstm_citations = []\n",
    "n = 0\n",
    "for d in [d for d in data if not open_access(d) and not released_code(d)]:\n",
    "    if used_any_benchmark(d) or used_custom_re(d):\n",
    "        try:\n",
    "            bnch_citations = bnch_citations + [int(d[\"citations\"])/(2019 - int(d[\"year\"]))]\n",
    "        except ValueError:\n",
    "            print(d[\"ind\"], \"needs reviewing\")\n",
    "        n = n + 1\n",
    "    elif used_custom_nore(d):\n",
    "        try:\n",
    "            cstm_citations = cstm_citations + [int(d[\"citations\"])/(2019 - int(d[\"year\"]))]\n",
    "        except ValueError:\n",
    "            print(d[\"ind\"], \"needs reviewing\")\n",
    "        n = n + 1\n",
    "\n",
    "            \n",
    "strt_citations = bnch_citations + strt_citations\n",
    "agg_all_citations = agg_all_citations + strt_citations\n",
    "strt_mean = np.mean(strt_citations)\n",
    "\n",
    "# First benchmark\n",
    "bnch_cits = np.sort(np.array(bnch_citations))\n",
    "# print(\"Excluding...\", bnch_cits[bnch_cits > 100])\n",
    "bnch_cits[bnch_cits > 50] = 50\n",
    "print(\"Total:\", bnch_cits.shape[0])\n",
    "print(np.mean(bnch_cits))\n",
    "# plt.hist(bnch_cits[bnch_cits <= 100], bins=40)\n",
    "# plt.show()\n",
    "agg_bnch_resids = agg_bnch_resids + [b - strt_mean for b in bnch_cits]\n",
    "\n",
    "print(\"\\n\")\n",
    "# Then custom no release\n",
    "cstm_cits = np.sort(np.array(cstm_citations))\n",
    "# print(\"Excluding...\", cstm_cits[cstm_cits > 100])\n",
    "cstm_cits[cstm_cits > 50] = 50\n",
    "print(\"Total:\", cstm_cits.shape[0])\n",
    "print(np.mean(cstm_cits))\n",
    "# plt.hist(cstm_cits[cstm_cits <= 100], bins=40)\n",
    "# plt.show()\n",
    "agg_cstm_resids = agg_cstm_resids + [c - strt_mean for c in cstm_cits]\n",
    "\n",
    "\n",
    "rat = np.mean(bnch_cits[bnch_cits <= 100])/np.mean(cstm_cits[cstm_cits <= 100])\n",
    "agg_rat = agg_rat + n*rat\n",
    "N = N + n\n",
    "print(rat)\n",
    "\n",
    "adjusted_bnch = [a+np.mean(agg_all_citations) for a in agg_bnch_resids]\n",
    "adjusted_cstm = [a+np.mean(agg_all_citations) for a in agg_cstm_resids]\n",
    "\n",
    "print(\n",
    "    \"RATIO AFTER CONTROLLING:\", \n",
    "    np.mean(adjusted_bnch)/\n",
    "    np.mean(adjusted_cstm)\n",
    ")"
   ]
  },
  {
   "cell_type": "code",
   "execution_count": 22,
   "metadata": {},
   "outputs": [
    {
     "name": "stdout",
     "output_type": "stream",
     "text": [
      "5.100457088500085 7.608732576594541 235\n",
      "2.8122210275036315 4.70315288427249 272\n"
     ]
    }
   ],
   "source": [
    "print(np.mean(adjusted_bnch), np.std(adjusted_bnch), len(adjusted_bnch))\n",
    "print(np.mean(adjusted_cstm), np.std(adjusted_cstm), len(adjusted_cstm))"
   ]
  },
  {
   "cell_type": "code",
   "execution_count": null,
   "metadata": {},
   "outputs": [],
   "source": []
  }
 ],
 "metadata": {
  "kernelspec": {
   "display_name": "Python 3",
   "language": "python",
   "name": "python3"
  },
  "language_info": {
   "codemirror_mode": {
    "name": "ipython",
    "version": 3
   },
   "file_extension": ".py",
   "mimetype": "text/x-python",
   "name": "python",
   "nbconvert_exporter": "python",
   "pygments_lexer": "ipython3",
   "version": "3.6.8"
  }
 },
 "nbformat": 4,
 "nbformat_minor": 2
}
